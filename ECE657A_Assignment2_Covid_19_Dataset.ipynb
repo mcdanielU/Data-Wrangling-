{
  "nbformat": 4,
  "nbformat_minor": 0,
  "metadata": {
    "kernelspec": {
      "display_name": "Python 3",
      "language": "python",
      "name": "python3"
    },
    "language_info": {
      "codemirror_mode": {
        "name": "ipython",
        "version": 3
      },
      "file_extension": ".py",
      "mimetype": "text/x-python",
      "name": "python",
      "nbconvert_exporter": "python",
      "pygments_lexer": "ipython3",
      "version": "3.8.5"
    },
    "colab": {
      "name": "ECE657A_Assignment2_Covid_19_Dataset.ipynb",
      "provenance": [],
      "collapsed_sections": [
        "2ry77YAYDXCK",
        "5CErB1gfKKiX",
        "eNibqpbOwPTA"
      ],
      "include_colab_link": true
    }
  },
  "cells": [
    {
      "cell_type": "markdown",
      "metadata": {
        "id": "view-in-github",
        "colab_type": "text"
      },
      "source": [
        "<a href=\"https://colab.research.google.com/github/mcdanielU/Data-Wrangling-/blob/master/ECE657A_Assignment2_Covid_19_Dataset.ipynb\" target=\"_parent\"><img src=\"https://colab.research.google.com/assets/colab-badge.svg\" alt=\"Open In Colab\"/></a>"
      ]
    },
    {
      "cell_type": "code",
      "metadata": {
        "colab": {
          "base_uri": "https://localhost:8080/"
        },
        "id": "EoG2kv4jDvBk",
        "outputId": "58021206-1033-4cad-d296-3b1954c1394b"
      },
      "source": [
        "from google.colab import drive\n",
        "drive.mount('/content/drive')"
      ],
      "execution_count": null,
      "outputs": [
        {
          "output_type": "stream",
          "text": [
            "Drive already mounted at /content/drive; to attempt to forcibly remount, call drive.mount(\"/content/drive\", force_remount=True).\n"
          ],
          "name": "stdout"
        }
      ]
    },
    {
      "cell_type": "code",
      "metadata": {
        "id": "EOnuHmU3DXCE"
      },
      "source": [
        "import numpy as np\n",
        "import pandas as pd\n",
        "import matplotlib.pyplot as plt\n",
        "from sklearn import tree\n",
        "from sklearn.metrics import accuracy_score, plot_confusion_matrix\n"
      ],
      "execution_count": null,
      "outputs": []
    },
    {
      "cell_type": "code",
      "metadata": {
        "id": "kCUfr17Qgnp9"
      },
      "source": [
        "df_train = pd.read_csv('/content/drive/MyDrive/ECE657Assignment/covid_train.csv')"
      ],
      "execution_count": null,
      "outputs": []
    },
    {
      "cell_type": "code",
      "metadata": {
        "id": "qrAZ4sOPDXCH"
      },
      "source": [
        "df_test = pd.read_csv('/content/drive/MyDrive/ECE657Assignment/covid_tests.csv')"
      ],
      "execution_count": null,
      "outputs": []
    },
    {
      "cell_type": "code",
      "metadata": {
        "colab": {
          "base_uri": "https://localhost:8080/",
          "height": 206
        },
        "id": "wkh8GxJ8DXCJ",
        "outputId": "955f0f49-94c4-402d-f5df-f874047bdece"
      },
      "source": [
        "df_train.head()"
      ],
      "execution_count": null,
      "outputs": [
        {
          "output_type": "execute_result",
          "data": {
            "text/html": [
              "<div>\n",
              "<style scoped>\n",
              "    .dataframe tbody tr th:only-of-type {\n",
              "        vertical-align: middle;\n",
              "    }\n",
              "\n",
              "    .dataframe tbody tr th {\n",
              "        vertical-align: top;\n",
              "    }\n",
              "\n",
              "    .dataframe thead th {\n",
              "        text-align: right;\n",
              "    }\n",
              "</style>\n",
              "<table border=\"1\" class=\"dataframe\">\n",
              "  <thead>\n",
              "    <tr style=\"text-align: right;\">\n",
              "      <th></th>\n",
              "      <th>Age_Group</th>\n",
              "      <th>Client_Gender</th>\n",
              "      <th>Case_AcquisitionInfo</th>\n",
              "      <th>Reporting_PHU_City</th>\n",
              "      <th>Outbreak_Related</th>\n",
              "      <th>Reporting_PHU_Latitude</th>\n",
              "      <th>Reporting_PHU_Longitude</th>\n",
              "      <th>Outcome1</th>\n",
              "    </tr>\n",
              "  </thead>\n",
              "  <tbody>\n",
              "    <tr>\n",
              "      <th>0</th>\n",
              "      <td>50s</td>\n",
              "      <td>MALE</td>\n",
              "      <td>NO KNOWN EPI LINK</td>\n",
              "      <td>Oakville</td>\n",
              "      <td>NaN</td>\n",
              "      <td>43.413997</td>\n",
              "      <td>-79.744796</td>\n",
              "      <td>Resolved</td>\n",
              "    </tr>\n",
              "    <tr>\n",
              "      <th>1</th>\n",
              "      <td>20s</td>\n",
              "      <td>FEMALE</td>\n",
              "      <td>CC</td>\n",
              "      <td>Guelph</td>\n",
              "      <td>NaN</td>\n",
              "      <td>43.524881</td>\n",
              "      <td>-80.233743</td>\n",
              "      <td>Not Resolved</td>\n",
              "    </tr>\n",
              "    <tr>\n",
              "      <th>2</th>\n",
              "      <td>90s</td>\n",
              "      <td>FEMALE</td>\n",
              "      <td>OB</td>\n",
              "      <td>Barrie</td>\n",
              "      <td>Yes</td>\n",
              "      <td>44.410713</td>\n",
              "      <td>-79.686306</td>\n",
              "      <td>Resolved</td>\n",
              "    </tr>\n",
              "    <tr>\n",
              "      <th>3</th>\n",
              "      <td>20s</td>\n",
              "      <td>FEMALE</td>\n",
              "      <td>MISSING INFORMATION</td>\n",
              "      <td>Toronto</td>\n",
              "      <td>NaN</td>\n",
              "      <td>43.656591</td>\n",
              "      <td>-79.379358</td>\n",
              "      <td>Resolved</td>\n",
              "    </tr>\n",
              "    <tr>\n",
              "      <th>4</th>\n",
              "      <td>90s</td>\n",
              "      <td>FEMALE</td>\n",
              "      <td>OB</td>\n",
              "      <td>Ottawa</td>\n",
              "      <td>Yes</td>\n",
              "      <td>45.345665</td>\n",
              "      <td>-75.763912</td>\n",
              "      <td>Fatal</td>\n",
              "    </tr>\n",
              "  </tbody>\n",
              "</table>\n",
              "</div>"
            ],
            "text/plain": [
              "  Age_Group Client_Gender  ... Reporting_PHU_Longitude      Outcome1\n",
              "0       50s          MALE  ...              -79.744796      Resolved\n",
              "1       20s        FEMALE  ...              -80.233743  Not Resolved\n",
              "2       90s        FEMALE  ...              -79.686306      Resolved\n",
              "3       20s        FEMALE  ...              -79.379358      Resolved\n",
              "4       90s        FEMALE  ...              -75.763912         Fatal\n",
              "\n",
              "[5 rows x 8 columns]"
            ]
          },
          "metadata": {
            "tags": []
          },
          "execution_count": 5
        }
      ]
    },
    {
      "cell_type": "code",
      "metadata": {
        "colab": {
          "base_uri": "https://localhost:8080/",
          "height": 206
        },
        "id": "qpul7TxUhA0O",
        "outputId": "f4dd117b-c301-4cf0-accb-bee6916db6e4"
      },
      "source": [
        "df_test.head()"
      ],
      "execution_count": null,
      "outputs": [
        {
          "output_type": "execute_result",
          "data": {
            "text/html": [
              "<div>\n",
              "<style scoped>\n",
              "    .dataframe tbody tr th:only-of-type {\n",
              "        vertical-align: middle;\n",
              "    }\n",
              "\n",
              "    .dataframe tbody tr th {\n",
              "        vertical-align: top;\n",
              "    }\n",
              "\n",
              "    .dataframe thead th {\n",
              "        text-align: right;\n",
              "    }\n",
              "</style>\n",
              "<table border=\"1\" class=\"dataframe\">\n",
              "  <thead>\n",
              "    <tr style=\"text-align: right;\">\n",
              "      <th></th>\n",
              "      <th>Age_Group</th>\n",
              "      <th>Client_Gender</th>\n",
              "      <th>Case_AcquisitionInfo</th>\n",
              "      <th>Reporting_PHU_City</th>\n",
              "      <th>Outbreak_Related</th>\n",
              "      <th>Reporting_PHU_Latitude</th>\n",
              "      <th>Reporting_PHU_Longitude</th>\n",
              "    </tr>\n",
              "  </thead>\n",
              "  <tbody>\n",
              "    <tr>\n",
              "      <th>0</th>\n",
              "      <td>80s</td>\n",
              "      <td>FEMALE</td>\n",
              "      <td>MISSING INFORMATION</td>\n",
              "      <td>Toronto</td>\n",
              "      <td>NaN</td>\n",
              "      <td>43.656591</td>\n",
              "      <td>-79.379358</td>\n",
              "    </tr>\n",
              "    <tr>\n",
              "      <th>1</th>\n",
              "      <td>80s</td>\n",
              "      <td>MALE</td>\n",
              "      <td>NO KNOWN EPI LINK</td>\n",
              "      <td>Toronto</td>\n",
              "      <td>Yes</td>\n",
              "      <td>43.656591</td>\n",
              "      <td>-79.379358</td>\n",
              "    </tr>\n",
              "    <tr>\n",
              "      <th>2</th>\n",
              "      <td>40s</td>\n",
              "      <td>FEMALE</td>\n",
              "      <td>OB</td>\n",
              "      <td>Stratford</td>\n",
              "      <td>Yes</td>\n",
              "      <td>43.368662</td>\n",
              "      <td>-81.001913</td>\n",
              "    </tr>\n",
              "    <tr>\n",
              "      <th>3</th>\n",
              "      <td>30s</td>\n",
              "      <td>MALE</td>\n",
              "      <td>NO KNOWN EPI LINK</td>\n",
              "      <td>Mississauga</td>\n",
              "      <td>NaN</td>\n",
              "      <td>43.647471</td>\n",
              "      <td>-79.708893</td>\n",
              "    </tr>\n",
              "    <tr>\n",
              "      <th>4</th>\n",
              "      <td>60s</td>\n",
              "      <td>MALE</td>\n",
              "      <td>NO KNOWN EPI LINK</td>\n",
              "      <td>London</td>\n",
              "      <td>NaN</td>\n",
              "      <td>42.981468</td>\n",
              "      <td>-81.254016</td>\n",
              "    </tr>\n",
              "  </tbody>\n",
              "</table>\n",
              "</div>"
            ],
            "text/plain": [
              "  Age_Group Client_Gender  ... Reporting_PHU_Latitude Reporting_PHU_Longitude\n",
              "0       80s        FEMALE  ...              43.656591              -79.379358\n",
              "1       80s          MALE  ...              43.656591              -79.379358\n",
              "2       40s        FEMALE  ...              43.368662              -81.001913\n",
              "3       30s          MALE  ...              43.647471              -79.708893\n",
              "4       60s          MALE  ...              42.981468              -81.254016\n",
              "\n",
              "[5 rows x 7 columns]"
            ]
          },
          "metadata": {
            "tags": []
          },
          "execution_count": 6
        }
      ]
    },
    {
      "cell_type": "code",
      "metadata": {
        "id": "_JS-dlRlDXCK"
      },
      "source": [
        "# import seaborn as sns\n",
        "\n",
        "# sns.pairplot(df, hue='Outcome1')"
      ],
      "execution_count": null,
      "outputs": []
    },
    {
      "cell_type": "markdown",
      "metadata": {
        "id": "2ry77YAYDXCK"
      },
      "source": [
        "# DATA EXPLORATION ANALYSIS "
      ]
    },
    {
      "cell_type": "code",
      "metadata": {
        "colab": {
          "base_uri": "https://localhost:8080/"
        },
        "id": "H-ze35pSDh4l",
        "outputId": "35dc2dc3-2847-4db7-bc20-8d2a2f5c6ec1"
      },
      "source": [
        "df_train.isnull().sum()"
      ],
      "execution_count": null,
      "outputs": [
        {
          "output_type": "execute_result",
          "data": {
            "text/plain": [
              "Age_Group                     6\n",
              "Client_Gender                 0\n",
              "Case_AcquisitionInfo          0\n",
              "Reporting_PHU_City            0\n",
              "Outbreak_Related           9020\n",
              "Reporting_PHU_Latitude        0\n",
              "Reporting_PHU_Longitude       0\n",
              "Outcome1                      0\n",
              "dtype: int64"
            ]
          },
          "metadata": {
            "tags": []
          },
          "execution_count": 7
        }
      ]
    },
    {
      "cell_type": "code",
      "metadata": {
        "colab": {
          "base_uri": "https://localhost:8080/"
        },
        "id": "FpxenCWOhLOQ",
        "outputId": "e5b3c63d-b6e1-4c83-bbf3-7eb904a6cf25"
      },
      "source": [
        "df_test.isnull().sum()"
      ],
      "execution_count": null,
      "outputs": [
        {
          "output_type": "execute_result",
          "data": {
            "text/plain": [
              "Age_Group                     0\n",
              "Client_Gender                 0\n",
              "Case_AcquisitionInfo          0\n",
              "Reporting_PHU_City            0\n",
              "Outbreak_Related           2288\n",
              "Reporting_PHU_Latitude        0\n",
              "Reporting_PHU_Longitude       0\n",
              "dtype: int64"
            ]
          },
          "metadata": {
            "tags": []
          },
          "execution_count": 8
        }
      ]
    },
    {
      "cell_type": "code",
      "metadata": {
        "id": "ymk7j4aZQoPF"
      },
      "source": [
        "#FIll empty data with NO in outbreak related "
      ],
      "execution_count": null,
      "outputs": []
    },
    {
      "cell_type": "code",
      "metadata": {
        "id": "uC-jOCT0QuML"
      },
      "source": [
        "df_train['Outbreak_Related'].fillna('No', inplace=True)"
      ],
      "execution_count": null,
      "outputs": []
    },
    {
      "cell_type": "code",
      "metadata": {
        "id": "RoN3uyVPhYLu"
      },
      "source": [
        "df_test['Outbreak_Related'].fillna('No', inplace=True)"
      ],
      "execution_count": null,
      "outputs": []
    },
    {
      "cell_type": "code",
      "metadata": {
        "colab": {
          "base_uri": "https://localhost:8080/"
        },
        "id": "KepKYP9Ihe2M",
        "outputId": "e6d5a8f2-eb6e-4b20-8ef3-2363a338a676"
      },
      "source": [
        "df_train.isnull().sum()"
      ],
      "execution_count": null,
      "outputs": [
        {
          "output_type": "execute_result",
          "data": {
            "text/plain": [
              "Age_Group                  6\n",
              "Client_Gender              0\n",
              "Case_AcquisitionInfo       0\n",
              "Reporting_PHU_City         0\n",
              "Outbreak_Related           0\n",
              "Reporting_PHU_Latitude     0\n",
              "Reporting_PHU_Longitude    0\n",
              "Outcome1                   0\n",
              "dtype: int64"
            ]
          },
          "metadata": {
            "tags": []
          },
          "execution_count": 11
        }
      ]
    },
    {
      "cell_type": "code",
      "metadata": {
        "colab": {
          "base_uri": "https://localhost:8080/"
        },
        "id": "BPVjgDQ-hjKp",
        "outputId": "db595334-873f-4361-df9d-d5d590e88baf"
      },
      "source": [
        "df_test.isnull().sum()"
      ],
      "execution_count": null,
      "outputs": [
        {
          "output_type": "execute_result",
          "data": {
            "text/plain": [
              "Age_Group                  0\n",
              "Client_Gender              0\n",
              "Case_AcquisitionInfo       0\n",
              "Reporting_PHU_City         0\n",
              "Outbreak_Related           0\n",
              "Reporting_PHU_Latitude     0\n",
              "Reporting_PHU_Longitude    0\n",
              "dtype: int64"
            ]
          },
          "metadata": {
            "tags": []
          },
          "execution_count": 12
        }
      ]
    },
    {
      "cell_type": "code",
      "metadata": {
        "colab": {
          "base_uri": "https://localhost:8080/"
        },
        "id": "50H0lJGKR2F-",
        "outputId": "ff41afe8-5298-4374-b76c-5d8b9af7ddae"
      },
      "source": [
        "df_train.dtypes"
      ],
      "execution_count": null,
      "outputs": [
        {
          "output_type": "execute_result",
          "data": {
            "text/plain": [
              "Age_Group                   object\n",
              "Client_Gender               object\n",
              "Case_AcquisitionInfo        object\n",
              "Reporting_PHU_City          object\n",
              "Outbreak_Related            object\n",
              "Reporting_PHU_Latitude     float64\n",
              "Reporting_PHU_Longitude    float64\n",
              "Outcome1                    object\n",
              "dtype: object"
            ]
          },
          "metadata": {
            "tags": []
          },
          "execution_count": 13
        }
      ]
    },
    {
      "cell_type": "code",
      "metadata": {
        "colab": {
          "base_uri": "https://localhost:8080/"
        },
        "id": "45Zxu1x6huHe",
        "outputId": "e35ddd4e-ef92-4a5e-d754-4b31cc7f8ec6"
      },
      "source": [
        "df_test.dtypes"
      ],
      "execution_count": null,
      "outputs": [
        {
          "output_type": "execute_result",
          "data": {
            "text/plain": [
              "Age_Group                   object\n",
              "Client_Gender               object\n",
              "Case_AcquisitionInfo        object\n",
              "Reporting_PHU_City          object\n",
              "Outbreak_Related            object\n",
              "Reporting_PHU_Latitude     float64\n",
              "Reporting_PHU_Longitude    float64\n",
              "dtype: object"
            ]
          },
          "metadata": {
            "tags": []
          },
          "execution_count": 14
        }
      ]
    },
    {
      "cell_type": "code",
      "metadata": {
        "colab": {
          "base_uri": "https://localhost:8080/"
        },
        "id": "Ku4-a21KSfRT",
        "outputId": "8af038fb-b15a-4f05-94a3-dab0e22a788f"
      },
      "source": [
        "df_train['Age_Group'].unique()"
      ],
      "execution_count": null,
      "outputs": [
        {
          "output_type": "execute_result",
          "data": {
            "text/plain": [
              "array([50, 20, 90, 60, 70, 30, 80, 19, 40])"
            ]
          },
          "metadata": {
            "tags": []
          },
          "execution_count": 60
        }
      ]
    },
    {
      "cell_type": "code",
      "metadata": {
        "colab": {
          "base_uri": "https://localhost:8080/"
        },
        "id": "cVxAWX2Bh5Ho",
        "outputId": "4623db45-3f5c-40ae-e69c-8c3967f6f520"
      },
      "source": [
        "df_test['Age_Group'].unique()"
      ],
      "execution_count": null,
      "outputs": [
        {
          "output_type": "execute_result",
          "data": {
            "text/plain": [
              "array(['80s', '40s', '30s', '60s', '90s', '20s', '50s', '<20', '70s'],\n",
              "      dtype=object)"
            ]
          },
          "metadata": {
            "tags": []
          },
          "execution_count": 17
        }
      ]
    },
    {
      "cell_type": "code",
      "metadata": {
        "colab": {
          "base_uri": "https://localhost:8080/"
        },
        "id": "IesnUZYGXkWQ",
        "outputId": "c54fe1e1-246f-470c-a2fa-90e0bf59dfa5"
      },
      "source": [
        "#Find mode of Age group to replace the missing values \n",
        "df_train['Age_Group'].mode()"
      ],
      "execution_count": null,
      "outputs": [
        {
          "output_type": "execute_result",
          "data": {
            "text/plain": [
              "0    80s\n",
              "dtype: object"
            ]
          },
          "metadata": {
            "tags": []
          },
          "execution_count": 18
        }
      ]
    },
    {
      "cell_type": "code",
      "metadata": {
        "colab": {
          "base_uri": "https://localhost:8080/"
        },
        "id": "xYbMwN1DiCxC",
        "outputId": "c5c1c42c-b20e-46ca-e777-ad830759dd2c"
      },
      "source": [
        " df_test['Age_Group'].mode()"
      ],
      "execution_count": null,
      "outputs": [
        {
          "output_type": "execute_result",
          "data": {
            "text/plain": [
              "0    80s\n",
              "dtype: object"
            ]
          },
          "metadata": {
            "tags": []
          },
          "execution_count": 19
        }
      ]
    },
    {
      "cell_type": "code",
      "metadata": {
        "id": "1G44amZbX3fB"
      },
      "source": [
        "#FIll NAN with 80s \n",
        "df_train['Age_Group'].fillna('80s', inplace=True)"
      ],
      "execution_count": null,
      "outputs": []
    },
    {
      "cell_type": "code",
      "metadata": {
        "colab": {
          "base_uri": "https://localhost:8080/"
        },
        "id": "3yQcO2wZYWem",
        "outputId": "48810a51-0d5c-4483-c3b6-4d3f204145c0"
      },
      "source": [
        "df_train.isnull().sum()"
      ],
      "execution_count": null,
      "outputs": [
        {
          "output_type": "execute_result",
          "data": {
            "text/plain": [
              "Age_Group                  0\n",
              "Client_Gender              0\n",
              "Case_AcquisitionInfo       0\n",
              "Reporting_PHU_City         0\n",
              "Outbreak_Related           0\n",
              "Reporting_PHU_Latitude     0\n",
              "Reporting_PHU_Longitude    0\n",
              "Outcome1                   0\n",
              "dtype: int64"
            ]
          },
          "metadata": {
            "tags": []
          },
          "execution_count": 21
        }
      ]
    },
    {
      "cell_type": "code",
      "metadata": {
        "colab": {
          "base_uri": "https://localhost:8080/"
        },
        "id": "ShH8CZQOrb4g",
        "outputId": "586c6003-5496-420a-b2c8-d1e3570746d4"
      },
      "source": [
        "df_test.isnull().sum()"
      ],
      "execution_count": null,
      "outputs": [
        {
          "output_type": "execute_result",
          "data": {
            "text/plain": [
              "Age_Group                  0\n",
              "Client_Gender              0\n",
              "Case_AcquisitionInfo       0\n",
              "Reporting_PHU_City         0\n",
              "Outbreak_Related           0\n",
              "Reporting_PHU_Latitude     0\n",
              "Reporting_PHU_Longitude    0\n",
              "dtype: int64"
            ]
          },
          "metadata": {
            "tags": []
          },
          "execution_count": 22
        }
      ]
    },
    {
      "cell_type": "code",
      "metadata": {
        "id": "lfrNs8ijUbET"
      },
      "source": [
        " df_train['Age_Group'] = df_train['Age_Group'].replace(['<20'],'19')"
      ],
      "execution_count": null,
      "outputs": []
    },
    {
      "cell_type": "code",
      "metadata": {
        "id": "zSxOD4ZKiaIU"
      },
      "source": [
        " df_test['Age_Group'] = df_test['Age_Group'].replace(['<20'],'19')"
      ],
      "execution_count": null,
      "outputs": []
    },
    {
      "cell_type": "code",
      "metadata": {
        "id": "Akj_QwXcUWQ0"
      },
      "source": [
        "df_train['Age_Group'] = df_train['Age_Group'].map(lambda x: x.rstrip('s'))"
      ],
      "execution_count": null,
      "outputs": []
    },
    {
      "cell_type": "code",
      "metadata": {
        "colab": {
          "base_uri": "https://localhost:8080/",
          "height": 206
        },
        "id": "rR9VrQZCYkwC",
        "outputId": "c69e2842-33af-40cf-c2ac-827024fa2f49"
      },
      "source": [
        "df_train.head()"
      ],
      "execution_count": null,
      "outputs": [
        {
          "output_type": "execute_result",
          "data": {
            "text/html": [
              "<div>\n",
              "<style scoped>\n",
              "    .dataframe tbody tr th:only-of-type {\n",
              "        vertical-align: middle;\n",
              "    }\n",
              "\n",
              "    .dataframe tbody tr th {\n",
              "        vertical-align: top;\n",
              "    }\n",
              "\n",
              "    .dataframe thead th {\n",
              "        text-align: right;\n",
              "    }\n",
              "</style>\n",
              "<table border=\"1\" class=\"dataframe\">\n",
              "  <thead>\n",
              "    <tr style=\"text-align: right;\">\n",
              "      <th></th>\n",
              "      <th>Age_Group</th>\n",
              "      <th>Client_Gender</th>\n",
              "      <th>Case_AcquisitionInfo</th>\n",
              "      <th>Reporting_PHU_City</th>\n",
              "      <th>Outbreak_Related</th>\n",
              "      <th>Reporting_PHU_Latitude</th>\n",
              "      <th>Reporting_PHU_Longitude</th>\n",
              "      <th>Outcome1</th>\n",
              "    </tr>\n",
              "  </thead>\n",
              "  <tbody>\n",
              "    <tr>\n",
              "      <th>0</th>\n",
              "      <td>50</td>\n",
              "      <td>MALE</td>\n",
              "      <td>NO KNOWN EPI LINK</td>\n",
              "      <td>Oakville</td>\n",
              "      <td>No</td>\n",
              "      <td>43.413997</td>\n",
              "      <td>-79.744796</td>\n",
              "      <td>Resolved</td>\n",
              "    </tr>\n",
              "    <tr>\n",
              "      <th>1</th>\n",
              "      <td>20</td>\n",
              "      <td>FEMALE</td>\n",
              "      <td>CC</td>\n",
              "      <td>Guelph</td>\n",
              "      <td>No</td>\n",
              "      <td>43.524881</td>\n",
              "      <td>-80.233743</td>\n",
              "      <td>Not Resolved</td>\n",
              "    </tr>\n",
              "    <tr>\n",
              "      <th>2</th>\n",
              "      <td>90</td>\n",
              "      <td>FEMALE</td>\n",
              "      <td>OB</td>\n",
              "      <td>Barrie</td>\n",
              "      <td>Yes</td>\n",
              "      <td>44.410713</td>\n",
              "      <td>-79.686306</td>\n",
              "      <td>Resolved</td>\n",
              "    </tr>\n",
              "    <tr>\n",
              "      <th>3</th>\n",
              "      <td>20</td>\n",
              "      <td>FEMALE</td>\n",
              "      <td>MISSING INFORMATION</td>\n",
              "      <td>Toronto</td>\n",
              "      <td>No</td>\n",
              "      <td>43.656591</td>\n",
              "      <td>-79.379358</td>\n",
              "      <td>Resolved</td>\n",
              "    </tr>\n",
              "    <tr>\n",
              "      <th>4</th>\n",
              "      <td>90</td>\n",
              "      <td>FEMALE</td>\n",
              "      <td>OB</td>\n",
              "      <td>Ottawa</td>\n",
              "      <td>Yes</td>\n",
              "      <td>45.345665</td>\n",
              "      <td>-75.763912</td>\n",
              "      <td>Fatal</td>\n",
              "    </tr>\n",
              "  </tbody>\n",
              "</table>\n",
              "</div>"
            ],
            "text/plain": [
              "  Age_Group Client_Gender  ... Reporting_PHU_Longitude      Outcome1\n",
              "0        50          MALE  ...              -79.744796      Resolved\n",
              "1        20        FEMALE  ...              -80.233743  Not Resolved\n",
              "2        90        FEMALE  ...              -79.686306      Resolved\n",
              "3        20        FEMALE  ...              -79.379358      Resolved\n",
              "4        90        FEMALE  ...              -75.763912         Fatal\n",
              "\n",
              "[5 rows x 8 columns]"
            ]
          },
          "metadata": {
            "tags": []
          },
          "execution_count": 26
        }
      ]
    },
    {
      "cell_type": "code",
      "metadata": {
        "id": "iYLqKe0Sioha"
      },
      "source": [
        "df_test['Age_Group'] = df_test['Age_Group'].map(lambda x: x.rstrip('s'))"
      ],
      "execution_count": null,
      "outputs": []
    },
    {
      "cell_type": "code",
      "metadata": {
        "colab": {
          "base_uri": "https://localhost:8080/",
          "height": 206
        },
        "id": "rtsWPIeJiwaw",
        "outputId": "0edc0f6e-8a41-46a7-9459-076b6a19108b"
      },
      "source": [
        "df_test.head()"
      ],
      "execution_count": null,
      "outputs": [
        {
          "output_type": "execute_result",
          "data": {
            "text/html": [
              "<div>\n",
              "<style scoped>\n",
              "    .dataframe tbody tr th:only-of-type {\n",
              "        vertical-align: middle;\n",
              "    }\n",
              "\n",
              "    .dataframe tbody tr th {\n",
              "        vertical-align: top;\n",
              "    }\n",
              "\n",
              "    .dataframe thead th {\n",
              "        text-align: right;\n",
              "    }\n",
              "</style>\n",
              "<table border=\"1\" class=\"dataframe\">\n",
              "  <thead>\n",
              "    <tr style=\"text-align: right;\">\n",
              "      <th></th>\n",
              "      <th>Age_Group</th>\n",
              "      <th>Client_Gender</th>\n",
              "      <th>Case_AcquisitionInfo</th>\n",
              "      <th>Reporting_PHU_City</th>\n",
              "      <th>Outbreak_Related</th>\n",
              "      <th>Reporting_PHU_Latitude</th>\n",
              "      <th>Reporting_PHU_Longitude</th>\n",
              "    </tr>\n",
              "  </thead>\n",
              "  <tbody>\n",
              "    <tr>\n",
              "      <th>0</th>\n",
              "      <td>80</td>\n",
              "      <td>FEMALE</td>\n",
              "      <td>MISSING INFORMATION</td>\n",
              "      <td>Toronto</td>\n",
              "      <td>No</td>\n",
              "      <td>43.656591</td>\n",
              "      <td>-79.379358</td>\n",
              "    </tr>\n",
              "    <tr>\n",
              "      <th>1</th>\n",
              "      <td>80</td>\n",
              "      <td>MALE</td>\n",
              "      <td>NO KNOWN EPI LINK</td>\n",
              "      <td>Toronto</td>\n",
              "      <td>Yes</td>\n",
              "      <td>43.656591</td>\n",
              "      <td>-79.379358</td>\n",
              "    </tr>\n",
              "    <tr>\n",
              "      <th>2</th>\n",
              "      <td>40</td>\n",
              "      <td>FEMALE</td>\n",
              "      <td>OB</td>\n",
              "      <td>Stratford</td>\n",
              "      <td>Yes</td>\n",
              "      <td>43.368662</td>\n",
              "      <td>-81.001913</td>\n",
              "    </tr>\n",
              "    <tr>\n",
              "      <th>3</th>\n",
              "      <td>30</td>\n",
              "      <td>MALE</td>\n",
              "      <td>NO KNOWN EPI LINK</td>\n",
              "      <td>Mississauga</td>\n",
              "      <td>No</td>\n",
              "      <td>43.647471</td>\n",
              "      <td>-79.708893</td>\n",
              "    </tr>\n",
              "    <tr>\n",
              "      <th>4</th>\n",
              "      <td>60</td>\n",
              "      <td>MALE</td>\n",
              "      <td>NO KNOWN EPI LINK</td>\n",
              "      <td>London</td>\n",
              "      <td>No</td>\n",
              "      <td>42.981468</td>\n",
              "      <td>-81.254016</td>\n",
              "    </tr>\n",
              "  </tbody>\n",
              "</table>\n",
              "</div>"
            ],
            "text/plain": [
              "  Age_Group Client_Gender  ... Reporting_PHU_Latitude Reporting_PHU_Longitude\n",
              "0        80        FEMALE  ...              43.656591              -79.379358\n",
              "1        80          MALE  ...              43.656591              -79.379358\n",
              "2        40        FEMALE  ...              43.368662              -81.001913\n",
              "3        30          MALE  ...              43.647471              -79.708893\n",
              "4        60          MALE  ...              42.981468              -81.254016\n",
              "\n",
              "[5 rows x 7 columns]"
            ]
          },
          "metadata": {
            "tags": []
          },
          "execution_count": 30
        }
      ]
    },
    {
      "cell_type": "code",
      "metadata": {
        "id": "NSx-Eu30ZNwz"
      },
      "source": [
        "df_train = df_train[df_train['Age_Group'] != 'missing']\n",
        "df_train['Age_Group'] = df_train['Age_Group'].astype('int')"
      ],
      "execution_count": null,
      "outputs": []
    },
    {
      "cell_type": "code",
      "metadata": {
        "id": "D4EmVIaki_71"
      },
      "source": [
        "df_test = df_test[df_test['Age_Group'] != 'missing']\n",
        "df_test['Age_Group'] = df_test['Age_Group'].astype('int')"
      ],
      "execution_count": null,
      "outputs": []
    },
    {
      "cell_type": "code",
      "metadata": {
        "colab": {
          "base_uri": "https://localhost:8080/"
        },
        "id": "8fpyTmFMjdlP",
        "outputId": "ecdc211a-a58d-4032-e8f9-1d065cc31cd9"
      },
      "source": [
        "df_train.info"
      ],
      "execution_count": null,
      "outputs": [
        {
          "output_type": "execute_result",
          "data": {
            "text/plain": [
              "<bound method DataFrame.info of        Age_Group Client_Gender  ... Reporting_PHU_Longitude      Outcome1\n",
              "0             50          MALE  ...              -79.744796      Resolved\n",
              "1             20        FEMALE  ...              -80.233743  Not Resolved\n",
              "2             90        FEMALE  ...              -79.686306      Resolved\n",
              "3             20        FEMALE  ...              -79.379358      Resolved\n",
              "4             90        FEMALE  ...              -75.763912         Fatal\n",
              "...          ...           ...  ...                     ...           ...\n",
              "14846         19        FEMALE  ...              -79.871341  Not Resolved\n",
              "14847         20        FEMALE  ...              -79.708893  Not Resolved\n",
              "14848         80          MALE  ...              -79.241220         Fatal\n",
              "14849         50        FEMALE  ...              -79.480239         Fatal\n",
              "14850         90        FEMALE  ...              -79.379358         Fatal\n",
              "\n",
              "[14851 rows x 8 columns]>"
            ]
          },
          "metadata": {
            "tags": []
          },
          "execution_count": 33
        }
      ]
    },
    {
      "cell_type": "code",
      "metadata": {
        "colab": {
          "base_uri": "https://localhost:8080/"
        },
        "id": "jRKSV-HdZ9L4",
        "outputId": "470e6883-4856-4576-d4d9-7323dd6da042"
      },
      "source": [
        "#Checking for unique values in Client Gender \n",
        "df_train['Client_Gender'].unique()"
      ],
      "execution_count": null,
      "outputs": [
        {
          "output_type": "execute_result",
          "data": {
            "text/plain": [
              "array(['MALE', 'FEMALE', 'UNSPECIFIED', 'GENDER DIVERSE'], dtype=object)"
            ]
          },
          "metadata": {
            "tags": []
          },
          "execution_count": 34
        }
      ]
    },
    {
      "cell_type": "code",
      "metadata": {
        "colab": {
          "base_uri": "https://localhost:8080/"
        },
        "id": "gCuX36IpjPjJ",
        "outputId": "5ecb9ecc-9a12-45d4-a1a1-e649c346aa1a"
      },
      "source": [
        "df_test['Client_Gender'].unique()"
      ],
      "execution_count": null,
      "outputs": [
        {
          "output_type": "execute_result",
          "data": {
            "text/plain": [
              "array(['FEMALE', 'MALE', 'UNSPECIFIED'], dtype=object)"
            ]
          },
          "metadata": {
            "tags": []
          },
          "execution_count": 35
        }
      ]
    },
    {
      "cell_type": "code",
      "metadata": {
        "id": "PyNGmwN0j8jj"
      },
      "source": [
        "#Drop some features in Gender to reduce Unbalaced data\n",
        "G_diverse_rows = df_train[df_train['Client_Gender'] == 'GENDER DIVERSE' ].index\n"
      ],
      "execution_count": null,
      "outputs": []
    },
    {
      "cell_type": "code",
      "metadata": {
        "id": "PZntNRttmkZy"
      },
      "source": [
        "df_train.drop(G_diverse_rows , inplace=True)"
      ],
      "execution_count": null,
      "outputs": []
    },
    {
      "cell_type": "code",
      "metadata": {
        "colab": {
          "base_uri": "https://localhost:8080/"
        },
        "id": "2CjhXy4SnCtY",
        "outputId": "5f317f4b-846a-419f-a482-3add85dfbda4"
      },
      "source": [
        "#Checking for unique values in Client Gender \n",
        "df_train['Client_Gender'].unique()"
      ],
      "execution_count": null,
      "outputs": [
        {
          "output_type": "execute_result",
          "data": {
            "text/plain": [
              "array([1, 0, 'UNSPECIFIED'], dtype=object)"
            ]
          },
          "metadata": {
            "tags": []
          },
          "execution_count": 58
        }
      ]
    },
    {
      "cell_type": "code",
      "metadata": {
        "colab": {
          "base_uri": "https://localhost:8080/"
        },
        "id": "v1R4E7nWruh1",
        "outputId": "a37362a8-dc37-44fb-eef5-5b552efd702a"
      },
      "source": [
        "df_test['Client_Gender'].unique()"
      ],
      "execution_count": null,
      "outputs": [
        {
          "output_type": "execute_result",
          "data": {
            "text/plain": [
              "array(['FEMALE', 'MALE', 'UNSPECIFIED'], dtype=object)"
            ]
          },
          "metadata": {
            "tags": []
          },
          "execution_count": 39
        }
      ]
    },
    {
      "cell_type": "code",
      "metadata": {
        "id": "Bh_hnPoesR3P"
      },
      "source": [
        "#Convert Binary values to numerical dataset"
      ],
      "execution_count": null,
      "outputs": []
    },
    {
      "cell_type": "code",
      "metadata": {
        "id": "W5ZWc7HsdZVS"
      },
      "source": [
        "df_train['Outbreak_Related'] = df_train['Outbreak_Related'].replace({'No':0, 'Yes':1})"
      ],
      "execution_count": null,
      "outputs": []
    },
    {
      "cell_type": "code",
      "metadata": {
        "id": "ytOvLzuKr-rF"
      },
      "source": [
        "df_test['Outbreak_Related'] = df_test['Outbreak_Related'].replace({'No':0, 'Yes':1})"
      ],
      "execution_count": null,
      "outputs": []
    },
    {
      "cell_type": "code",
      "metadata": {
        "id": "2o-j_WzSsOrd"
      },
      "source": [
        "df_train['Client_Gender'] = df_train['Client_Gender'].replace({'FEMALE':0, 'MALE':1})"
      ],
      "execution_count": null,
      "outputs": []
    },
    {
      "cell_type": "code",
      "metadata": {
        "id": "Jq4YPFVisOay"
      },
      "source": [
        "df_test['Client_Gender'] = df_test['Client_Gender'].replace({'FEMALE':0, 'MALE':1})"
      ],
      "execution_count": null,
      "outputs": []
    },
    {
      "cell_type": "markdown",
      "metadata": {
        "id": "byvwfPvef9pl"
      },
      "source": [
        "#SEPERATING DATASET INTO TRAINING DATASET WITH TEST DATASET AND IT'S LABELS"
      ]
    },
    {
      "cell_type": "code",
      "metadata": {
        "id": "WM86toOnQxIp"
      },
      "source": [
        "X = df_train.drop([\"Outcome1\"], axis=1)\n",
        "y = df_train[\"Outcome1\"]\n"
      ],
      "execution_count": null,
      "outputs": []
    },
    {
      "cell_type": "code",
      "metadata": {
        "id": "sI9RlLcTxtpi"
      },
      "source": [
        "#Using one hot encoding \n",
        "X_train_one_hot_encoded = pd.get_dummies(X)"
      ],
      "execution_count": null,
      "outputs": []
    },
    {
      "cell_type": "code",
      "metadata": {
        "colab": {
          "base_uri": "https://localhost:8080/",
          "height": 243
        },
        "id": "gr_VrJkoyDh6",
        "outputId": "19294b7a-8e9d-41f3-c157-bd20d87ff5e3"
      },
      "source": [
        "X_train_one_hot_encoded.head()"
      ],
      "execution_count": null,
      "outputs": [
        {
          "output_type": "execute_result",
          "data": {
            "text/html": [
              "<div>\n",
              "<style scoped>\n",
              "    .dataframe tbody tr th:only-of-type {\n",
              "        vertical-align: middle;\n",
              "    }\n",
              "\n",
              "    .dataframe tbody tr th {\n",
              "        vertical-align: top;\n",
              "    }\n",
              "\n",
              "    .dataframe thead th {\n",
              "        text-align: right;\n",
              "    }\n",
              "</style>\n",
              "<table border=\"1\" class=\"dataframe\">\n",
              "  <thead>\n",
              "    <tr style=\"text-align: right;\">\n",
              "      <th></th>\n",
              "      <th>Age_Group</th>\n",
              "      <th>Outbreak_Related</th>\n",
              "      <th>Reporting_PHU_Latitude</th>\n",
              "      <th>Reporting_PHU_Longitude</th>\n",
              "      <th>Client_Gender_0</th>\n",
              "      <th>Client_Gender_1</th>\n",
              "      <th>Client_Gender_UNSPECIFIED</th>\n",
              "      <th>Case_AcquisitionInfo_CC</th>\n",
              "      <th>Case_AcquisitionInfo_MISSING INFORMATION</th>\n",
              "      <th>Case_AcquisitionInfo_NO KNOWN EPI LINK</th>\n",
              "      <th>Case_AcquisitionInfo_OB</th>\n",
              "      <th>Case_AcquisitionInfo_TRAVEL</th>\n",
              "      <th>Case_AcquisitionInfo_UNSPECIFIED EPI LINK</th>\n",
              "      <th>Reporting_PHU_City_Barrie</th>\n",
              "      <th>Reporting_PHU_City_Belleville</th>\n",
              "      <th>Reporting_PHU_City_Brantford</th>\n",
              "      <th>Reporting_PHU_City_Brockville</th>\n",
              "      <th>Reporting_PHU_City_Chatham</th>\n",
              "      <th>Reporting_PHU_City_Cornwall</th>\n",
              "      <th>Reporting_PHU_City_Guelph</th>\n",
              "      <th>Reporting_PHU_City_Hamilton</th>\n",
              "      <th>Reporting_PHU_City_Kenora</th>\n",
              "      <th>Reporting_PHU_City_Kingston</th>\n",
              "      <th>Reporting_PHU_City_London</th>\n",
              "      <th>Reporting_PHU_City_Mississauga</th>\n",
              "      <th>Reporting_PHU_City_New Liskeard</th>\n",
              "      <th>Reporting_PHU_City_Newmarket</th>\n",
              "      <th>Reporting_PHU_City_North Bay</th>\n",
              "      <th>Reporting_PHU_City_Oakville</th>\n",
              "      <th>Reporting_PHU_City_Ottawa</th>\n",
              "      <th>Reporting_PHU_City_Owen Sound</th>\n",
              "      <th>Reporting_PHU_City_Pembroke</th>\n",
              "      <th>Reporting_PHU_City_Peterborough</th>\n",
              "      <th>Reporting_PHU_City_Point Edward</th>\n",
              "      <th>Reporting_PHU_City_Port Hope</th>\n",
              "      <th>Reporting_PHU_City_Sault Ste. Marie</th>\n",
              "      <th>Reporting_PHU_City_Simcoe</th>\n",
              "      <th>Reporting_PHU_City_St. Thomas</th>\n",
              "      <th>Reporting_PHU_City_Stratford</th>\n",
              "      <th>Reporting_PHU_City_Sudbury</th>\n",
              "      <th>Reporting_PHU_City_Thorold</th>\n",
              "      <th>Reporting_PHU_City_Thunder Bay</th>\n",
              "      <th>Reporting_PHU_City_Timmins</th>\n",
              "      <th>Reporting_PHU_City_Toronto</th>\n",
              "      <th>Reporting_PHU_City_Waterloo</th>\n",
              "      <th>Reporting_PHU_City_Whitby</th>\n",
              "      <th>Reporting_PHU_City_Windsor</th>\n",
              "    </tr>\n",
              "  </thead>\n",
              "  <tbody>\n",
              "    <tr>\n",
              "      <th>0</th>\n",
              "      <td>50</td>\n",
              "      <td>0</td>\n",
              "      <td>43.413997</td>\n",
              "      <td>-79.744796</td>\n",
              "      <td>0</td>\n",
              "      <td>1</td>\n",
              "      <td>0</td>\n",
              "      <td>0</td>\n",
              "      <td>0</td>\n",
              "      <td>1</td>\n",
              "      <td>0</td>\n",
              "      <td>0</td>\n",
              "      <td>0</td>\n",
              "      <td>0</td>\n",
              "      <td>0</td>\n",
              "      <td>0</td>\n",
              "      <td>0</td>\n",
              "      <td>0</td>\n",
              "      <td>0</td>\n",
              "      <td>0</td>\n",
              "      <td>0</td>\n",
              "      <td>0</td>\n",
              "      <td>0</td>\n",
              "      <td>0</td>\n",
              "      <td>0</td>\n",
              "      <td>0</td>\n",
              "      <td>0</td>\n",
              "      <td>0</td>\n",
              "      <td>1</td>\n",
              "      <td>0</td>\n",
              "      <td>0</td>\n",
              "      <td>0</td>\n",
              "      <td>0</td>\n",
              "      <td>0</td>\n",
              "      <td>0</td>\n",
              "      <td>0</td>\n",
              "      <td>0</td>\n",
              "      <td>0</td>\n",
              "      <td>0</td>\n",
              "      <td>0</td>\n",
              "      <td>0</td>\n",
              "      <td>0</td>\n",
              "      <td>0</td>\n",
              "      <td>0</td>\n",
              "      <td>0</td>\n",
              "      <td>0</td>\n",
              "      <td>0</td>\n",
              "    </tr>\n",
              "    <tr>\n",
              "      <th>1</th>\n",
              "      <td>20</td>\n",
              "      <td>0</td>\n",
              "      <td>43.524881</td>\n",
              "      <td>-80.233743</td>\n",
              "      <td>1</td>\n",
              "      <td>0</td>\n",
              "      <td>0</td>\n",
              "      <td>1</td>\n",
              "      <td>0</td>\n",
              "      <td>0</td>\n",
              "      <td>0</td>\n",
              "      <td>0</td>\n",
              "      <td>0</td>\n",
              "      <td>0</td>\n",
              "      <td>0</td>\n",
              "      <td>0</td>\n",
              "      <td>0</td>\n",
              "      <td>0</td>\n",
              "      <td>0</td>\n",
              "      <td>1</td>\n",
              "      <td>0</td>\n",
              "      <td>0</td>\n",
              "      <td>0</td>\n",
              "      <td>0</td>\n",
              "      <td>0</td>\n",
              "      <td>0</td>\n",
              "      <td>0</td>\n",
              "      <td>0</td>\n",
              "      <td>0</td>\n",
              "      <td>0</td>\n",
              "      <td>0</td>\n",
              "      <td>0</td>\n",
              "      <td>0</td>\n",
              "      <td>0</td>\n",
              "      <td>0</td>\n",
              "      <td>0</td>\n",
              "      <td>0</td>\n",
              "      <td>0</td>\n",
              "      <td>0</td>\n",
              "      <td>0</td>\n",
              "      <td>0</td>\n",
              "      <td>0</td>\n",
              "      <td>0</td>\n",
              "      <td>0</td>\n",
              "      <td>0</td>\n",
              "      <td>0</td>\n",
              "      <td>0</td>\n",
              "    </tr>\n",
              "    <tr>\n",
              "      <th>2</th>\n",
              "      <td>90</td>\n",
              "      <td>1</td>\n",
              "      <td>44.410713</td>\n",
              "      <td>-79.686306</td>\n",
              "      <td>1</td>\n",
              "      <td>0</td>\n",
              "      <td>0</td>\n",
              "      <td>0</td>\n",
              "      <td>0</td>\n",
              "      <td>0</td>\n",
              "      <td>1</td>\n",
              "      <td>0</td>\n",
              "      <td>0</td>\n",
              "      <td>1</td>\n",
              "      <td>0</td>\n",
              "      <td>0</td>\n",
              "      <td>0</td>\n",
              "      <td>0</td>\n",
              "      <td>0</td>\n",
              "      <td>0</td>\n",
              "      <td>0</td>\n",
              "      <td>0</td>\n",
              "      <td>0</td>\n",
              "      <td>0</td>\n",
              "      <td>0</td>\n",
              "      <td>0</td>\n",
              "      <td>0</td>\n",
              "      <td>0</td>\n",
              "      <td>0</td>\n",
              "      <td>0</td>\n",
              "      <td>0</td>\n",
              "      <td>0</td>\n",
              "      <td>0</td>\n",
              "      <td>0</td>\n",
              "      <td>0</td>\n",
              "      <td>0</td>\n",
              "      <td>0</td>\n",
              "      <td>0</td>\n",
              "      <td>0</td>\n",
              "      <td>0</td>\n",
              "      <td>0</td>\n",
              "      <td>0</td>\n",
              "      <td>0</td>\n",
              "      <td>0</td>\n",
              "      <td>0</td>\n",
              "      <td>0</td>\n",
              "      <td>0</td>\n",
              "    </tr>\n",
              "    <tr>\n",
              "      <th>3</th>\n",
              "      <td>20</td>\n",
              "      <td>0</td>\n",
              "      <td>43.656591</td>\n",
              "      <td>-79.379358</td>\n",
              "      <td>1</td>\n",
              "      <td>0</td>\n",
              "      <td>0</td>\n",
              "      <td>0</td>\n",
              "      <td>1</td>\n",
              "      <td>0</td>\n",
              "      <td>0</td>\n",
              "      <td>0</td>\n",
              "      <td>0</td>\n",
              "      <td>0</td>\n",
              "      <td>0</td>\n",
              "      <td>0</td>\n",
              "      <td>0</td>\n",
              "      <td>0</td>\n",
              "      <td>0</td>\n",
              "      <td>0</td>\n",
              "      <td>0</td>\n",
              "      <td>0</td>\n",
              "      <td>0</td>\n",
              "      <td>0</td>\n",
              "      <td>0</td>\n",
              "      <td>0</td>\n",
              "      <td>0</td>\n",
              "      <td>0</td>\n",
              "      <td>0</td>\n",
              "      <td>0</td>\n",
              "      <td>0</td>\n",
              "      <td>0</td>\n",
              "      <td>0</td>\n",
              "      <td>0</td>\n",
              "      <td>0</td>\n",
              "      <td>0</td>\n",
              "      <td>0</td>\n",
              "      <td>0</td>\n",
              "      <td>0</td>\n",
              "      <td>0</td>\n",
              "      <td>0</td>\n",
              "      <td>0</td>\n",
              "      <td>0</td>\n",
              "      <td>1</td>\n",
              "      <td>0</td>\n",
              "      <td>0</td>\n",
              "      <td>0</td>\n",
              "    </tr>\n",
              "    <tr>\n",
              "      <th>4</th>\n",
              "      <td>90</td>\n",
              "      <td>1</td>\n",
              "      <td>45.345665</td>\n",
              "      <td>-75.763912</td>\n",
              "      <td>1</td>\n",
              "      <td>0</td>\n",
              "      <td>0</td>\n",
              "      <td>0</td>\n",
              "      <td>0</td>\n",
              "      <td>0</td>\n",
              "      <td>1</td>\n",
              "      <td>0</td>\n",
              "      <td>0</td>\n",
              "      <td>0</td>\n",
              "      <td>0</td>\n",
              "      <td>0</td>\n",
              "      <td>0</td>\n",
              "      <td>0</td>\n",
              "      <td>0</td>\n",
              "      <td>0</td>\n",
              "      <td>0</td>\n",
              "      <td>0</td>\n",
              "      <td>0</td>\n",
              "      <td>0</td>\n",
              "      <td>0</td>\n",
              "      <td>0</td>\n",
              "      <td>0</td>\n",
              "      <td>0</td>\n",
              "      <td>0</td>\n",
              "      <td>1</td>\n",
              "      <td>0</td>\n",
              "      <td>0</td>\n",
              "      <td>0</td>\n",
              "      <td>0</td>\n",
              "      <td>0</td>\n",
              "      <td>0</td>\n",
              "      <td>0</td>\n",
              "      <td>0</td>\n",
              "      <td>0</td>\n",
              "      <td>0</td>\n",
              "      <td>0</td>\n",
              "      <td>0</td>\n",
              "      <td>0</td>\n",
              "      <td>0</td>\n",
              "      <td>0</td>\n",
              "      <td>0</td>\n",
              "      <td>0</td>\n",
              "    </tr>\n",
              "  </tbody>\n",
              "</table>\n",
              "</div>"
            ],
            "text/plain": [
              "   Age_Group  ...  Reporting_PHU_City_Windsor\n",
              "0         50  ...                           0\n",
              "1         20  ...                           0\n",
              "2         90  ...                           0\n",
              "3         20  ...                           0\n",
              "4         90  ...                           0\n",
              "\n",
              "[5 rows x 47 columns]"
            ]
          },
          "metadata": {
            "tags": []
          },
          "execution_count": 51
        }
      ]
    },
    {
      "cell_type": "code",
      "metadata": {
        "id": "ZNHO01w6Ri7I"
      },
      "source": [
        "#Cross validation\n",
        "from sklearn.model_selection import train_test_split, cross_val_score\n",
        "X_train, X_test, y_train, y_test = train_test_split(X_train_one_hot_encoded, y, \n",
        "                                                    test_size = 0.2,\n",
        "                                                    random_state = 0)\n"
      ],
      "execution_count": null,
      "outputs": []
    },
    {
      "cell_type": "markdown",
      "metadata": {
        "id": "eNibqpbOwPTA"
      },
      "source": [
        "#DECISION TREE\n"
      ]
    },
    {
      "cell_type": "code",
      "metadata": {
        "id": "-dknG_BHTS0q"
      },
      "source": [
        "from sklearn.tree import DecisionTreeClassifier"
      ],
      "execution_count": null,
      "outputs": []
    },
    {
      "cell_type": "code",
      "metadata": {
        "id": "FNgwtws6Uc7r"
      },
      "source": [
        "clf_dt_1 = DecisionTreeClassifier(random_state = 0)\n",
        "clf_dt_1 = clf_dt_1.fit(X_train , y_train)"
      ],
      "execution_count": null,
      "outputs": []
    },
    {
      "cell_type": "code",
      "metadata": {
        "id": "DEfPfybpVc9n"
      },
      "source": [
        "y_predicted = clf_dt_1. predict(X_test)"
      ],
      "execution_count": null,
      "outputs": []
    },
    {
      "cell_type": "code",
      "metadata": {
        "colab": {
          "base_uri": "https://localhost:8080/",
          "height": 301
        },
        "id": "vDNogeu4yedi",
        "outputId": "9a251855-04c0-4ff6-d00e-bb17d6cb0e98"
      },
      "source": [
        "plot_confusion_matrix(clf_dt_1,\n",
        "                      X_test,\n",
        "                      y_test,\n",
        "                      display_labels=['Resolved','Not Resolved','Fatal'])"
      ],
      "execution_count": null,
      "outputs": [
        {
          "output_type": "execute_result",
          "data": {
            "text/plain": [
              "<sklearn.metrics._plot.confusion_matrix.ConfusionMatrixDisplay at 0x7f4cd1ebf050>"
            ]
          },
          "metadata": {
            "tags": []
          },
          "execution_count": 61
        },
        {
          "output_type": "display_data",
          "data": {
            "image/png": "[encoded data removed]",
            "text/plain": [
              "<Figure size 432x288 with 2 Axes>"
            ]
          },
          "metadata": {
            "tags": [],
            "needs_background": "light"
          }
        }
      ]
    },
    {
      "cell_type": "code",
      "metadata": {
        "colab": {
          "base_uri": "https://localhost:8080/"
        },
        "id": "B5N_SURvYugl",
        "outputId": "d56a85ea-6a21-459e-8859-40d892ee298c"
      },
      "source": [
        "accuracy_score(y_test, y_predicted)"
      ],
      "execution_count": null,
      "outputs": [
        {
          "output_type": "execute_result",
          "data": {
            "text/plain": [
              "0.6558922558922559"
            ]
          },
          "metadata": {
            "tags": []
          },
          "execution_count": 62
        }
      ]
    },
    {
      "cell_type": "markdown",
      "metadata": {
        "id": "SyYunNn3boBZ"
      },
      "source": [
        "###TUNING THE DECISION TREE "
      ]
    },
    {
      "cell_type": "code",
      "metadata": {
        "id": "nGwTI-DDbnlb"
      },
      "source": [
        "from sklearn.model_selection import GridSearchCV"
      ],
      "execution_count": null,
      "outputs": []
    },
    {
      "cell_type": "code",
      "metadata": {
        "id": "ceF5Dzs8eDy6"
      },
      "source": [
        "clf_dt_2 = DecisionTreeClassifier(random_state=0)"
      ],
      "execution_count": null,
      "outputs": []
    },
    {
      "cell_type": "code",
      "metadata": {
        "id": "BKQTg5FYeTxO"
      },
      "source": [
        "para_dist ={\n",
        "    \"max_depth\":[3, 5, 10, None]\n",
        "}"
      ],
      "execution_count": null,
      "outputs": []
    },
    {
      "cell_type": "code",
      "metadata": {
        "id": "W_1qJlWaap-Y"
      },
      "source": [
        "grid = GridSearchCV(clf_dt_2, param_grid=para_dist, cv=10)"
      ],
      "execution_count": null,
      "outputs": []
    },
    {
      "cell_type": "code",
      "metadata": {
        "colab": {
          "base_uri": "https://localhost:8080/"
        },
        "id": "do2KzJX8a5tG",
        "outputId": "d8c20628-13d8-42f3-8d4d-5650b24e9443"
      },
      "source": [
        "grid.fit(X_train, y_train)"
      ],
      "execution_count": null,
      "outputs": [
        {
          "output_type": "execute_result",
          "data": {
            "text/plain": [
              "GridSearchCV(cv=10, error_score=nan,\n",
              "             estimator=DecisionTreeClassifier(ccp_alpha=0.0, class_weight=None,\n",
              "                                              criterion='gini', max_depth=None,\n",
              "                                              max_features=None,\n",
              "                                              max_leaf_nodes=None,\n",
              "                                              min_impurity_decrease=0.0,\n",
              "                                              min_impurity_split=None,\n",
              "                                              min_samples_leaf=1,\n",
              "                                              min_samples_split=2,\n",
              "                                              min_weight_fraction_leaf=0.0,\n",
              "                                              presort='deprecated',\n",
              "                                              random_state=0, splitter='best'),\n",
              "             iid='deprecated', n_jobs=None,\n",
              "             param_grid={'max_depth': [3, 5, 10, None]},\n",
              "             pre_dispatch='2*n_jobs', refit=True, return_train_score=False,\n",
              "             scoring=None, verbose=0)"
            ]
          },
          "metadata": {
            "tags": []
          },
          "execution_count": 81
        }
      ]
    },
    {
      "cell_type": "code",
      "metadata": {
        "colab": {
          "base_uri": "https://localhost:8080/"
        },
        "id": "H2zyv3Pkbdqo",
        "outputId": "759dc3f5-68dc-4b27-ca5a-146bf270a814"
      },
      "source": [
        "grid.cv_results_"
      ],
      "execution_count": null,
      "outputs": [
        {
          "output_type": "execute_result",
          "data": {
            "text/plain": [
              "{'mean_fit_time': array([0.02926254, 0.03444092, 0.04429896, 0.05451257]),\n",
              " 'mean_score_time': array([0.00256691, 0.00262878, 0.00263023, 0.00276618]),\n",
              " 'mean_test_score': array([0.65342274, 0.65931521, 0.65628519, 0.64668788]),\n",
              " 'param_max_depth': masked_array(data=[3, 5, 10, None],\n",
              "              mask=[False, False, False, False],\n",
              "        fill_value='?',\n",
              "             dtype=object),\n",
              " 'params': [{'max_depth': 3},\n",
              "  {'max_depth': 5},\n",
              "  {'max_depth': 10},\n",
              "  {'max_depth': None}],\n",
              " 'rank_test_score': array([3, 1, 2, 4], dtype=int32),\n",
              " 'split0_test_score': array([0.65488215, 0.65488215, 0.65740741, 0.64225589]),\n",
              " 'split1_test_score': array([0.67087542, 0.68518519, 0.67508418, 0.66919192]),\n",
              " 'split2_test_score': array([0.64141414, 0.6456229 , 0.64225589, 0.64646465]),\n",
              " 'split3_test_score': array([0.63636364, 0.64646465, 0.63804714, 0.62626263]),\n",
              " 'split4_test_score': array([0.64057239, 0.64393939, 0.63299663, 0.63047138]),\n",
              " 'split5_test_score': array([0.68097643, 0.68686869, 0.68434343, 0.67676768]),\n",
              " 'split6_test_score': array([0.66414141, 0.66750842, 0.67760943, 0.66582492]),\n",
              " 'split7_test_score': array([0.64983165, 0.66077441, 0.65572391, 0.64983165]),\n",
              " 'split8_test_score': array([0.63299663, 0.63720539, 0.63131313, 0.60774411]),\n",
              " 'split9_test_score': array([0.66217355, 0.66470093, 0.66807077, 0.65206403]),\n",
              " 'std_fit_time': array([0.00144374, 0.00117588, 0.00136054, 0.00294691]),\n",
              " 'std_score_time': array([7.85513926e-05, 1.24026823e-04, 8.26330729e-05, 4.43260856e-05]),\n",
              " 'std_test_score': array([0.01512571, 0.01619951, 0.01852369, 0.02008162])}"
            ]
          },
          "metadata": {
            "tags": []
          },
          "execution_count": 82
        }
      ]
    },
    {
      "cell_type": "code",
      "metadata": {
        "colab": {
          "base_uri": "https://localhost:8080/"
        },
        "id": "yHvP3YljctUz",
        "outputId": "5173b7cb-1bf3-43f8-e769-88ebdcd78254"
      },
      "source": [
        "grid.best_params_"
      ],
      "execution_count": null,
      "outputs": [
        {
          "output_type": "execute_result",
          "data": {
            "text/plain": [
              "{'max_depth': 5}"
            ]
          },
          "metadata": {
            "tags": []
          },
          "execution_count": 85
        }
      ]
    },
    {
      "cell_type": "code",
      "metadata": {
        "colab": {
          "base_uri": "https://localhost:8080/",
          "height": 296
        },
        "id": "8pVg4hyGcjKy",
        "outputId": "3530e543-d533-4892-f0a4-d42004babb87"
      },
      "source": [
        "mean_accuracy = grid.cv_results_['mean_test_score']\n",
        "max_depth = [3, 5, 10, 'None']\n",
        "fig, axis = plt.subplots()\n",
        "axis.set_xlabel(\"max_depth\")\n",
        "axis.set_ylabel(\"mean_accuracy\")\n",
        "axis.set_title(\"Accuray vs Maximum Depth\")\n",
        "axis.plot(max_depth, mean_accuracy, marker ='o' , label=\"train\",drawstyle =\"steps-post\")\n",
        "plt.grid()"
      ],
      "execution_count": null,
      "outputs": [
        {
          "output_type": "display_data",
          "data": {
            "image/png": "[encoded data removed]",
            "text/plain": [
              "<Figure size 432x288 with 1 Axes>"
            ]
          },
          "metadata": {
            "tags": [],
            "needs_background": "light"
          }
        }
      ]
    },
    {
      "cell_type": "code",
      "metadata": {
        "colab": {
          "base_uri": "https://localhost:8080/"
        },
        "id": "WOyjMEmElTo_",
        "outputId": "58f82f81-f1e7-4a32-89df-dbc62d85b14e"
      },
      "source": [
        "clf_dt_2 = DecisionTreeClassifier(random_state=0, max_depth=5)\n",
        "clf_dt_2.fit(X_train, y_train)"
      ],
      "execution_count": null,
      "outputs": [
        {
          "output_type": "execute_result",
          "data": {
            "text/plain": [
              "DecisionTreeClassifier(ccp_alpha=0.0, class_weight=None, criterion='gini',\n",
              "                       max_depth=5, max_features=None, max_leaf_nodes=None,\n",
              "                       min_impurity_decrease=0.0, min_impurity_split=None,\n",
              "                       min_samples_leaf=1, min_samples_split=2,\n",
              "                       min_weight_fraction_leaf=0.0, presort='deprecated',\n",
              "                       random_state=0, splitter='best')"
            ]
          },
          "metadata": {
            "tags": []
          },
          "execution_count": 87
        }
      ]
    },
    {
      "cell_type": "code",
      "metadata": {
        "id": "uMglJuXw_2AX"
      },
      "source": [
        "y_predicted_dt_2 = clf_dt_2. predict(X_test)"
      ],
      "execution_count": null,
      "outputs": []
    },
    {
      "cell_type": "code",
      "metadata": {
        "colab": {
          "base_uri": "https://localhost:8080/"
        },
        "id": "G9WvCzX7AFH7",
        "outputId": "8667e8a3-16a1-450d-9b06-bae3054b1cab"
      },
      "source": [
        "accuracy_score(y_test, y_predicted_dt_2)"
      ],
      "execution_count": null,
      "outputs": [
        {
          "output_type": "execute_result",
          "data": {
            "text/plain": [
              "0.6592592592592592"
            ]
          },
          "metadata": {
            "tags": []
          },
          "execution_count": 90
        }
      ]
    },
    {
      "cell_type": "markdown",
      "metadata": {
        "id": "JR0Zlj6FiZ4-"
      },
      "source": [
        "###VISUALIZE DECISION TREE \n",
        "\n",
        "\n"
      ]
    },
    {
      "cell_type": "code",
      "metadata": {
        "colab": {
          "base_uri": "https://localhost:8080/",
          "height": 933
        },
        "id": "1M0y1QVQipVa",
        "outputId": "76939039-a939-4eee-cffd-0f6855de1767"
      },
      "source": [
        "plt.figure(figsize=(30, 10))\n",
        "tree.plot_tree(clf_dt_2,max_depth=3,\n",
        "          feature_names = X_train_one_hot_encoded.columns,\n",
        "          class_names =['Resolved','Not Resolved','Fatal'],\n",
        "          filled =True,\n",
        "          rounded = True,\n",
        "          fontsize=9\n",
        "          )"
      ],
      "execution_count": 116,
      "outputs": [
        {
          "output_type": "execute_result",
          "data": {
            "text/plain": [
              "[Text(909.1551724137931, 489.24, 'Age_Group <= 65.0\\ngini = 0.667\\nsamples = 11879\\nvalue = [3936, 3933, 4010]\\nclass = Fatal'),\n",
              " Text(461.7931034482759, 380.52000000000004, 'Case_AcquisitionInfo_MISSING INFORMATION <= 0.5\\ngini = 0.558\\nsamples = 7506\\nvalue = [482, 3417, 3607]\\nclass = Fatal'),\n",
              " Text(230.89655172413794, 271.8, 'Age_Group <= 55.0\\ngini = 0.554\\nsamples = 5567\\nvalue = [418, 2133, 3016]\\nclass = Fatal'),\n",
              " Text(115.44827586206897, 163.08000000000004, 'Reporting_PHU_Longitude <= -79.424\\ngini = 0.514\\nsamples = 4706\\nvalue = [137, 1888, 2681]\\nclass = Fatal'),\n",
              " Text(57.724137931034484, 54.360000000000014, '\\n  (...)  \\n'),\n",
              " Text(173.17241379310346, 54.360000000000014, '\\n  (...)  \\n'),\n",
              " Text(346.3448275862069, 163.08000000000004, 'Case_AcquisitionInfo_OB <= 0.5\\ngini = 0.661\\nsamples = 861\\nvalue = [281, 245, 335]\\nclass = Fatal'),\n",
              " Text(288.62068965517244, 54.360000000000014, '\\n  (...)  \\n'),\n",
              " Text(404.0689655172414, 54.360000000000014, '\\n  (...)  \\n'),\n",
              " Text(692.6896551724138, 271.8, 'Reporting_PHU_City_Toronto <= 0.5\\ngini = 0.468\\nsamples = 1939\\nvalue = [64, 1284, 591]\\nclass = Not Resolved'),\n",
              " Text(577.2413793103449, 163.08000000000004, 'Reporting_PHU_Latitude <= 44.244\\ngini = 0.269\\nsamples = 386\\nvalue = [4, 325, 57]\\nclass = Not Resolved'),\n",
              " Text(519.5172413793103, 54.360000000000014, '\\n  (...)  \\n'),\n",
              " Text(634.9655172413793, 54.360000000000014, '\\n  (...)  \\n'),\n",
              " Text(808.1379310344828, 163.08000000000004, 'Age_Group <= 55.0\\ngini = 0.499\\nsamples = 1553\\nvalue = [60, 959, 534]\\nclass = Not Resolved'),\n",
              " Text(750.4137931034483, 54.360000000000014, '\\n  (...)  \\n'),\n",
              " Text(865.8620689655172, 54.360000000000014, '\\n  (...)  \\n'),\n",
              " Text(1356.5172413793105, 380.52000000000004, 'Outbreak_Related <= 0.5\\ngini = 0.354\\nsamples = 4373\\nvalue = [3454, 516, 403]\\nclass = Resolved'),\n",
              " Text(1154.4827586206898, 271.8, 'Case_AcquisitionInfo_MISSING INFORMATION <= 0.5\\ngini = 0.557\\nsamples = 1142\\nvalue = [688, 250, 204]\\nclass = Resolved'),\n",
              " Text(1039.0344827586207, 163.08000000000004, 'Reporting_PHU_City_Mississauga <= 0.5\\ngini = 0.523\\nsamples = 825\\nvalue = [529, 127, 169]\\nclass = Resolved'),\n",
              " Text(981.3103448275863, 54.360000000000014, '\\n  (...)  \\n'),\n",
              " Text(1096.7586206896551, 54.360000000000014, '\\n  (...)  \\n'),\n",
              " Text(1269.9310344827586, 163.08000000000004, 'Reporting_PHU_City_Toronto <= 0.5\\ngini = 0.586\\nsamples = 317\\nvalue = [159, 123, 35]\\nclass = Resolved'),\n",
              " Text(1212.2068965517242, 54.360000000000014, '\\n  (...)  \\n'),\n",
              " Text(1327.655172413793, 54.360000000000014, '\\n  (...)  \\n'),\n",
              " Text(1558.5517241379312, 271.8, 'Reporting_PHU_City_Chatham <= 0.5\\ngini = 0.257\\nsamples = 3231\\nvalue = [2766, 266, 199]\\nclass = Resolved'),\n",
              " Text(1500.8275862068965, 163.08000000000004, 'Age_Group <= 75.0\\ngini = 0.253\\nsamples = 3223\\nvalue = [2766, 258, 199]\\nclass = Resolved'),\n",
              " Text(1443.103448275862, 54.360000000000014, '\\n  (...)  \\n'),\n",
              " Text(1558.5517241379312, 54.360000000000014, '\\n  (...)  \\n'),\n",
              " Text(1616.2758620689656, 163.08000000000004, 'gini = 0.0\\nsamples = 8\\nvalue = [0, 8, 0]\\nclass = Not Resolved')]"
            ]
          },
          "metadata": {
            "tags": []
          },
          "execution_count": 116
        },
        {
          "output_type": "display_data",
          "data": {
            "image/png": "[encoded data removed]",
            "text/plain": [
              "<Figure size 2160x720 with 1 Axes>"
            ]
          },
          "metadata": {
            "tags": [],
            "needs_background": "light"
          }
        }
      ]
    },
    {
      "cell_type": "markdown",
      "metadata": {
        "id": "zm8DYIs_tvjb"
      },
      "source": [
        "#RANDOM FOREST\n",
        "\n",
        "\n",
        "\n",
        "\n",
        "\n",
        "\n",
        "\n",
        "\n",
        "---\n",
        "\n"
      ]
    },
    {
      "cell_type": "code",
      "metadata": {
        "colab": {
          "base_uri": "https://localhost:8080/"
        },
        "id": "mpz3BORBtyLO",
        "outputId": "ebffb97e-f8bf-4736-d556-043234c5e679"
      },
      "source": [
        "from sklearn.ensemble import RandomForestClassifier \n",
        "clf_rand = RandomForestClassifier()\n",
        "clf_rand.fit(X_train , y_train)"
      ],
      "execution_count": 117,
      "outputs": [
        {
          "output_type": "execute_result",
          "data": {
            "text/plain": [
              "RandomForestClassifier(bootstrap=True, ccp_alpha=0.0, class_weight=None,\n",
              "                       criterion='gini', max_depth=None, max_features='auto',\n",
              "                       max_leaf_nodes=None, max_samples=None,\n",
              "                       min_impurity_decrease=0.0, min_impurity_split=None,\n",
              "                       min_samples_leaf=1, min_samples_split=2,\n",
              "                       min_weight_fraction_leaf=0.0, n_estimators=100,\n",
              "                       n_jobs=None, oob_score=False, random_state=None,\n",
              "                       verbose=0, warm_start=False)"
            ]
          },
          "metadata": {
            "tags": []
          },
          "execution_count": 117
        }
      ]
    },
    {
      "cell_type": "code",
      "metadata": {
        "colab": {
          "base_uri": "https://localhost:8080/",
          "height": 296
        },
        "id": "2CvzEnZ6xDDt",
        "outputId": "4f02aca8-e13c-4f89-e08a-3c2704eefc24"
      },
      "source": [
        "plot_confusion_matrix(clf_rand,\n",
        "                      X_test,\n",
        "                      y_test,\n",
        "                       display_labels=['Resolved','Not Resolved','Fatal'])"
      ],
      "execution_count": 118,
      "outputs": [
        {
          "output_type": "execute_result",
          "data": {
            "text/plain": [
              "<sklearn.metrics._plot.confusion_matrix.ConfusionMatrixDisplay at 0x7f4ccf764510>"
            ]
          },
          "metadata": {
            "tags": []
          },
          "execution_count": 118
        },
        {
          "output_type": "display_data",
          "data": {
            "image/png": "[encoded data removed]",
            "text/plain": [
              "<Figure size 432x288 with 2 Axes>"
            ]
          },
          "metadata": {
            "tags": [],
            "needs_background": "light"
          }
        }
      ]
    },
    {
      "cell_type": "code",
      "metadata": {
        "id": "gyRyarYjxaDy"
      },
      "source": [
        "y_rand_predicted = clf_rand. predict(X_test)"
      ],
      "execution_count": 119,
      "outputs": []
    },
    {
      "cell_type": "code",
      "metadata": {
        "colab": {
          "base_uri": "https://localhost:8080/"
        },
        "id": "kmVHw4PwyTHZ",
        "outputId": "917f8df1-1770-4a60-9e0a-62a19f026b86"
      },
      "source": [
        "accuracy_score(y_test, y_rand_predicted)"
      ],
      "execution_count": 120,
      "outputs": [
        {
          "output_type": "execute_result",
          "data": {
            "text/plain": [
              "0.6612794612794612"
            ]
          },
          "metadata": {
            "tags": []
          },
          "execution_count": 120
        }
      ]
    },
    {
      "cell_type": "markdown",
      "metadata": {
        "id": "1YKV60cDyzXP"
      },
      "source": [
        "###TUNING THE RANDOM FOREST \n"
      ]
    },
    {
      "cell_type": "code",
      "metadata": {
        "id": "WpggClbty66f"
      },
      "source": [
        "clf_rand_2 = RandomForestClassifier(random_state=0)"
      ],
      "execution_count": 121,
      "outputs": []
    },
    {
      "cell_type": "code",
      "metadata": {
        "id": "RY87a5Q80E3B"
      },
      "source": [
        "para_rforest ={\n",
        "    \"n_estimators\": [5, 10, 50, 150, 200],\n",
        "    \"max_depth\":[3, 5, 10, None]\n",
        "}"
      ],
      "execution_count": 122,
      "outputs": []
    },
    {
      "cell_type": "code",
      "metadata": {
        "id": "3Yt4nNTq0Px-"
      },
      "source": [
        "grid_rforest = GridSearchCV(clf_rand_2 , param_grid=  para_rforest , cv =10)"
      ],
      "execution_count": 123,
      "outputs": []
    },
    {
      "cell_type": "code",
      "metadata": {
        "colab": {
          "base_uri": "https://localhost:8080/"
        },
        "id": "vubv-Y9O0zrX",
        "outputId": "90c6ffb2-5fec-46a8-e00a-f4eb7df3b594"
      },
      "source": [
        "grid_rforest.fit(X_train, y_train)"
      ],
      "execution_count": 124,
      "outputs": [
        {
          "output_type": "execute_result",
          "data": {
            "text/plain": [
              "GridSearchCV(cv=10, error_score=nan,\n",
              "             estimator=RandomForestClassifier(bootstrap=True, ccp_alpha=0.0,\n",
              "                                              class_weight=None,\n",
              "                                              criterion='gini', max_depth=None,\n",
              "                                              max_features='auto',\n",
              "                                              max_leaf_nodes=None,\n",
              "                                              max_samples=None,\n",
              "                                              min_impurity_decrease=0.0,\n",
              "                                              min_impurity_split=None,\n",
              "                                              min_samples_leaf=1,\n",
              "                                              min_samples_split=2,\n",
              "                                              min_weight_fraction_leaf=0.0,\n",
              "                                              n_estimators=100, n_jobs=None,\n",
              "                                              oob_score=False, random_state=0,\n",
              "                                              verbose=0, warm_start=False),\n",
              "             iid='deprecated', n_jobs=None,\n",
              "             param_grid={'max_depth': [3, 5, 10, None],\n",
              "                         'n_estimators': [5, 10, 50, 150, 200]},\n",
              "             pre_dispatch='2*n_jobs', refit=True, return_train_score=False,\n",
              "             scoring=None, verbose=0)"
            ]
          },
          "metadata": {
            "tags": []
          },
          "execution_count": 124
        }
      ]
    },
    {
      "cell_type": "code",
      "metadata": {
        "colab": {
          "base_uri": "https://localhost:8080/"
        },
        "id": "XEcDpWI9YxJh",
        "outputId": "ba9ced85-86b9-49d9-cc99-f5bc96109932"
      },
      "source": [
        "grid_rforest.cv_results_"
      ],
      "execution_count": 125,
      "outputs": [
        {
          "output_type": "execute_result",
          "data": {
            "text/plain": [
              "{'mean_fit_time': array([0.04981415, 0.05897217, 0.22270658, 0.62949808, 0.82856941,\n",
              "        0.04218063, 0.06717513, 0.26174335, 0.76003101, 1.00042524,\n",
              "        0.05311139, 0.08719099, 0.36996987, 1.08538084, 1.4321682 ,\n",
              "        0.06913218, 0.12239399, 0.55037291, 1.63640604, 2.16003766]),\n",
              " 'mean_score_time': array([0.00388048, 0.00468524, 0.01166933, 0.0283952 , 0.03689508,\n",
              "        0.0037801 , 0.00476758, 0.01273546, 0.03167355, 0.04160669,\n",
              "        0.00446913, 0.00577881, 0.01651168, 0.04222348, 0.05474081,\n",
              "        0.00485816, 0.00692434, 0.02350132, 0.06246955, 0.08193083]),\n",
              " 'mean_test_score': array([0.62504943, 0.63826683, 0.62446261, 0.62606208, 0.62799839,\n",
              "        0.60981402, 0.634649  , 0.6353229 , 0.64281604, 0.64483625,\n",
              "        0.66099907, 0.66302012, 0.66941764, 0.66908094, 0.66874438,\n",
              "        0.64744567, 0.64854066, 0.65165492, 0.65131822, 0.65241264]),\n",
              " 'param_max_depth': masked_array(data=[3, 3, 3, 3, 3, 5, 5, 5, 5, 5, 10, 10, 10, 10, 10, None,\n",
              "                    None, None, None, None],\n",
              "              mask=[False, False, False, False, False, False, False, False,\n",
              "                    False, False, False, False, False, False, False, False,\n",
              "                    False, False, False, False],\n",
              "        fill_value='?',\n",
              "             dtype=object),\n",
              " 'param_n_estimators': masked_array(data=[5, 10, 50, 150, 200, 5, 10, 50, 150, 200, 5, 10, 50,\n",
              "                    150, 200, 5, 10, 50, 150, 200],\n",
              "              mask=[False, False, False, False, False, False, False, False,\n",
              "                    False, False, False, False, False, False, False, False,\n",
              "                    False, False, False, False],\n",
              "        fill_value='?',\n",
              "             dtype=object),\n",
              " 'params': [{'max_depth': 3, 'n_estimators': 5},\n",
              "  {'max_depth': 3, 'n_estimators': 10},\n",
              "  {'max_depth': 3, 'n_estimators': 50},\n",
              "  {'max_depth': 3, 'n_estimators': 150},\n",
              "  {'max_depth': 3, 'n_estimators': 200},\n",
              "  {'max_depth': 5, 'n_estimators': 5},\n",
              "  {'max_depth': 5, 'n_estimators': 10},\n",
              "  {'max_depth': 5, 'n_estimators': 50},\n",
              "  {'max_depth': 5, 'n_estimators': 150},\n",
              "  {'max_depth': 5, 'n_estimators': 200},\n",
              "  {'max_depth': 10, 'n_estimators': 5},\n",
              "  {'max_depth': 10, 'n_estimators': 10},\n",
              "  {'max_depth': 10, 'n_estimators': 50},\n",
              "  {'max_depth': 10, 'n_estimators': 150},\n",
              "  {'max_depth': 10, 'n_estimators': 200},\n",
              "  {'max_depth': None, 'n_estimators': 5},\n",
              "  {'max_depth': None, 'n_estimators': 10},\n",
              "  {'max_depth': None, 'n_estimators': 50},\n",
              "  {'max_depth': None, 'n_estimators': 150},\n",
              "  {'max_depth': None, 'n_estimators': 200}],\n",
              " 'rank_test_score': array([18, 13, 19, 17, 16, 20, 15, 14, 12, 11,  5,  4,  1,  2,  3, 10,  9,\n",
              "         7,  8,  6], dtype=int32),\n",
              " 'split0_test_score': array([0.6489899 , 0.6489899 , 0.61111111, 0.61363636, 0.61784512,\n",
              "        0.60858586, 0.61952862, 0.62457912, 0.63047138, 0.63636364,\n",
              "        0.6473064 , 0.65740741, 0.66666667, 0.67003367, 0.66329966,\n",
              "        0.62962963, 0.63299663, 0.64983165, 0.64393939, 0.6456229 ]),\n",
              " 'split1_test_score': array([0.66666667, 0.66245791, 0.6506734 , 0.6506734 , 0.6523569 ,\n",
              "        0.6473064 , 0.6506734 , 0.65572391, 0.66919192, 0.67003367,\n",
              "        0.69781145, 0.69781145, 0.68939394, 0.68855219, 0.69276094,\n",
              "        0.66329966, 0.67845118, 0.67171717, 0.67087542, 0.67340067]),\n",
              " 'split2_test_score': array([0.64309764, 0.65572391, 0.62037037, 0.62121212, 0.62121212,\n",
              "        0.62037037, 0.65151515, 0.64478114, 0.63552189, 0.64057239,\n",
              "        0.6523569 , 0.64057239, 0.65824916, 0.6540404 , 0.6523569 ,\n",
              "        0.64983165, 0.6473064 , 0.65151515, 0.65151515, 0.65151515]),\n",
              " 'split3_test_score': array([0.63888889, 0.6489899 , 0.62205387, 0.62037037, 0.62289562,\n",
              "        0.62794613, 0.62962963, 0.62962963, 0.62962963, 0.63131313,\n",
              "        0.6473064 , 0.64814815, 0.65740741, 0.6506734 , 0.6523569 ,\n",
              "        0.63131313, 0.63552189, 0.63299663, 0.63047138, 0.63215488]),\n",
              " 'split4_test_score': array([0.60774411, 0.61616162, 0.61700337, 0.61700337, 0.61868687,\n",
              "        0.5976431 , 0.62710438, 0.63047138, 0.63383838, 0.63636364,\n",
              "        0.6506734 , 0.6506734 , 0.65740741, 0.65993266, 0.65740741,\n",
              "        0.64057239, 0.63468013, 0.63636364, 0.63636364, 0.63636364]),\n",
              " 'split5_test_score': array([0.63888889, 0.66161616, 0.64478114, 0.6489899 , 0.6523569 ,\n",
              "        0.61952862, 0.63888889, 0.65740741, 0.66498316, 0.66582492,\n",
              "        0.68602694, 0.69023569, 0.69612795, 0.6952862 , 0.69276094,\n",
              "        0.68013468, 0.67929293, 0.68013468, 0.68013468, 0.68181818]),\n",
              " 'split6_test_score': array([0.61363636, 0.63888889, 0.62289562, 0.62962963, 0.63131313,\n",
              "        0.60185185, 0.63383838, 0.62962963, 0.64983165, 0.64983165,\n",
              "        0.67424242, 0.67340067, 0.68181818, 0.68265993, 0.67929293,\n",
              "        0.65993266, 0.65740741, 0.66666667, 0.66835017, 0.66835017]),\n",
              " 'split7_test_score': array([0.60185185, 0.62373737, 0.62878788, 0.62794613, 0.62878788,\n",
              "        0.59427609, 0.62710438, 0.63215488, 0.64393939, 0.64646465,\n",
              "        0.6506734 , 0.65740741, 0.66245791, 0.67003367, 0.66750842,\n",
              "        0.64393939, 0.6456229 , 0.6506734 , 0.65572391, 0.65740741]),\n",
              " 'split8_test_score': array([0.60353535, 0.61616162, 0.61111111, 0.61363636, 0.61363636,\n",
              "        0.59006734, 0.63804714, 0.61279461, 0.61616162, 0.61700337,\n",
              "        0.63468013, 0.63552189, 0.64309764, 0.63804714, 0.64646465,\n",
              "        0.62121212, 0.61111111, 0.61616162, 0.61531987, 0.61531987]),\n",
              " 'split9_test_score': array([0.58719461, 0.60994103, 0.61583825, 0.61752317, 0.62089301,\n",
              "        0.59056445, 0.63016007, 0.63605729, 0.65459141, 0.65459141,\n",
              "        0.66891323, 0.67902275, 0.68155013, 0.68155013, 0.68323505,\n",
              "        0.65459141, 0.66301601, 0.66048863, 0.66048863, 0.66217355]),\n",
              " 'std_fit_time': array([0.03243831, 0.00183901, 0.00767953, 0.00698682, 0.00830574,\n",
              "        0.00131203, 0.00152977, 0.0042616 , 0.01125627, 0.01005934,\n",
              "        0.00164429, 0.00182704, 0.01078263, 0.01246834, 0.01556252,\n",
              "        0.00198898, 0.00375197, 0.00665077, 0.01950161, 0.01368072]),\n",
              " 'std_score_time': array([3.40528549e-04, 4.30029400e-04, 7.62129436e-04, 5.92277287e-04,\n",
              "        6.62761126e-04, 9.72257665e-05, 1.40109779e-04, 7.11296610e-04,\n",
              "        1.06426175e-03, 7.99600277e-04, 3.78774621e-04, 3.90871543e-04,\n",
              "        1.21945152e-03, 1.22064169e-03, 1.29033204e-03, 1.83306592e-04,\n",
              "        2.95714607e-04, 1.03332463e-03, 1.54471918e-03, 1.35413783e-03]),\n",
              " 'std_test_score': array([0.02424385, 0.0191213 , 0.01276756, 0.01291266, 0.01310315,\n",
              "        0.01776289, 0.00979409, 0.01309686, 0.01595851, 0.01522333,\n",
              "        0.01890808, 0.02002908, 0.01604817, 0.01737634, 0.0163341 ,\n",
              "        0.01690564, 0.02035368, 0.01833852, 0.01901332, 0.01941684])}"
            ]
          },
          "metadata": {
            "tags": []
          },
          "execution_count": 125
        }
      ]
    },
    {
      "cell_type": "code",
      "metadata": {
        "colab": {
          "base_uri": "https://localhost:8080/"
        },
        "id": "kDoSSwly1a0L",
        "outputId": "022555f4-ccf2-4ce3-9fb5-5c02bb26321f"
      },
      "source": [
        "mean_accuray_rforest = grid_rforest.cv_results_['mean_test_score']\n",
        "mean_accuray_rforest"
      ],
      "execution_count": 126,
      "outputs": [
        {
          "output_type": "execute_result",
          "data": {
            "text/plain": [
              "array([0.62504943, 0.63826683, 0.62446261, 0.62606208, 0.62799839,\n",
              "       0.60981402, 0.634649  , 0.6353229 , 0.64281604, 0.64483625,\n",
              "       0.66099907, 0.66302012, 0.66941764, 0.66908094, 0.66874438,\n",
              "       0.64744567, 0.64854066, 0.65165492, 0.65131822, 0.65241264])"
            ]
          },
          "metadata": {
            "tags": []
          },
          "execution_count": 126
        }
      ]
    },
    {
      "cell_type": "code",
      "metadata": {
        "id": "piniAHVK3Ble"
      },
      "source": [
        "index_0=0\n",
        "index_1=1\n",
        "index_2=2\n",
        "index_3=3\n",
        "index_4=4\n",
        "arr_1=[]\n",
        "arr_2=[]\n",
        "arr_3=[]\n",
        "arr_4=[]\n",
        "arr_5=[]\n",
        "\n",
        "for val in range(4):\n",
        "  arr_1.append(mean_accuray_rforest[index_0])\n",
        "  arr_2.append(mean_accuray_rforest[index_1])\n",
        "  arr_3.append(mean_accuray_rforest[index_2])\n",
        "  arr_4.append(mean_accuray_rforest[index_3])\n",
        "  arr_5.append(mean_accuray_rforest[index_4])\n",
        "  index_0+=5\n",
        "  index_1+=5\n",
        "  index_2+=5\n",
        "  index_3+=5\n",
        "  index_4+=5\n",
        "\n"
      ],
      "execution_count": 127,
      "outputs": []
    },
    {
      "cell_type": "code",
      "metadata": {
        "colab": {
          "base_uri": "https://localhost:8080/",
          "height": 265
        },
        "id": "sfSPfdB65W6z",
        "outputId": "cca4281c-90e1-4876-c394-4ef785d3d591"
      },
      "source": [
        "import seaborn as sns\n",
        "pandas_dataset = pd.DataFrame({'5': arr_1,'10': arr_2 ,'50': arr_3,'150': arr_4,'200': arr_5})\n",
        "pandas_dataset.index = ['3','5','10','None']\n",
        "plo = sns.heatmap(pandas_dataset)\n",
        "plt.show()"
      ],
      "execution_count": 128,
      "outputs": [
        {
          "output_type": "display_data",
          "data": {
            "image/png": "[encoded data removed]",
            "text/plain": [
              "<Figure size 432x288 with 2 Axes>"
            ]
          },
          "metadata": {
            "tags": [],
            "needs_background": "light"
          }
        }
      ]
    },
    {
      "cell_type": "code",
      "metadata": {
        "colab": {
          "base_uri": "https://localhost:8080/"
        },
        "id": "rY5Ax7PMNjTe",
        "outputId": "d0356abc-e730-4e6a-9624-3110c38a7917"
      },
      "source": [
        "grid_rforest.best_params_"
      ],
      "execution_count": 131,
      "outputs": [
        {
          "output_type": "execute_result",
          "data": {
            "text/plain": [
              "{'max_depth': 10, 'n_estimators': 50}"
            ]
          },
          "metadata": {
            "tags": []
          },
          "execution_count": 131
        }
      ]
    },
    {
      "cell_type": "code",
      "metadata": {
        "id": "FVOT9xbCOZLw"
      },
      "source": [
        "clf_rand_3 = RandomForestClassifier(max_depth=10, n_estimators=50)"
      ],
      "execution_count": 132,
      "outputs": []
    },
    {
      "cell_type": "code",
      "metadata": {
        "colab": {
          "base_uri": "https://localhost:8080/"
        },
        "id": "abXX1YvVPK9Z",
        "outputId": "dea0840a-4296-47ef-b9df-7e1d42f7a61e"
      },
      "source": [
        "clf_rand_3.fit(X_train, y_train)"
      ],
      "execution_count": 133,
      "outputs": [
        {
          "output_type": "execute_result",
          "data": {
            "text/plain": [
              "RandomForestClassifier(bootstrap=True, ccp_alpha=0.0, class_weight=None,\n",
              "                       criterion='gini', max_depth=10, max_features='auto',\n",
              "                       max_leaf_nodes=None, max_samples=None,\n",
              "                       min_impurity_decrease=0.0, min_impurity_split=None,\n",
              "                       min_samples_leaf=1, min_samples_split=2,\n",
              "                       min_weight_fraction_leaf=0.0, n_estimators=50,\n",
              "                       n_jobs=None, oob_score=False, random_state=None,\n",
              "                       verbose=0, warm_start=False)"
            ]
          },
          "metadata": {
            "tags": []
          },
          "execution_count": 133
        }
      ]
    },
    {
      "cell_type": "code",
      "metadata": {
        "colab": {
          "base_uri": "https://localhost:8080/",
          "height": 298
        },
        "id": "NBDSWjRfPhiG",
        "outputId": "7a36e7c3-e7e2-47f6-8335-f836484d12f3"
      },
      "source": [
        "plot_confusion_matrix(clf_rand_3,\n",
        "                      X_test,\n",
        "                      y_test,\n",
        "                      display_labels=['Resolved','Not Resolved','Fatal'])"
      ],
      "execution_count": 134,
      "outputs": [
        {
          "output_type": "execute_result",
          "data": {
            "text/plain": [
              "<sklearn.metrics._plot.confusion_matrix.ConfusionMatrixDisplay at 0x7f4ccf3f0fd0>"
            ]
          },
          "metadata": {
            "tags": []
          },
          "execution_count": 134
        },
        {
          "output_type": "display_data",
          "data": {
            "image/png": "[encoded data removed]",
            "text/plain": [
              "<Figure size 432x288 with 2 Axes>"
            ]
          },
          "metadata": {
            "tags": [],
            "needs_background": "light"
          }
        }
      ]
    },
    {
      "cell_type": "code",
      "metadata": {
        "id": "5hM92-e1HDkQ"
      },
      "source": [
        "y_rand_predicted_2 = clf_rand_3. predict(X_test)"
      ],
      "execution_count": 135,
      "outputs": []
    },
    {
      "cell_type": "code",
      "metadata": {
        "colab": {
          "base_uri": "https://localhost:8080/"
        },
        "id": "op7Hb-1XHQgX",
        "outputId": "3c2a6a73-c59c-454e-8da4-8f49b682ad0a"
      },
      "source": [
        "accuracy_score(y_test, y_rand_predicted_2)"
      ],
      "execution_count": 136,
      "outputs": [
        {
          "output_type": "execute_result",
          "data": {
            "text/plain": [
              "0.6727272727272727"
            ]
          },
          "metadata": {
            "tags": []
          },
          "execution_count": 136
        }
      ]
    },
    {
      "cell_type": "markdown",
      "metadata": {
        "id": "g82Kn1IZTqpm"
      },
      "source": [
        "#GRADIENT TREE BOOSTING"
      ]
    },
    {
      "cell_type": "code",
      "metadata": {
        "colab": {
          "base_uri": "https://localhost:8080/"
        },
        "id": "gKZyryeoTvNQ",
        "outputId": "254e9a79-1a73-45dc-ca9b-7127acfed1c0"
      },
      "source": [
        "from sklearn.ensemble import GradientBoostingClassifier\n",
        "clf_gboost = GradientBoostingClassifier(random_state = 0)\n",
        "clf_gboost.fit(X_train, y_train)"
      ],
      "execution_count": 139,
      "outputs": [
        {
          "output_type": "execute_result",
          "data": {
            "text/plain": [
              "GradientBoostingClassifier(ccp_alpha=0.0, criterion='friedman_mse', init=None,\n",
              "                           learning_rate=0.1, loss='deviance', max_depth=3,\n",
              "                           max_features=None, max_leaf_nodes=None,\n",
              "                           min_impurity_decrease=0.0, min_impurity_split=None,\n",
              "                           min_samples_leaf=1, min_samples_split=2,\n",
              "                           min_weight_fraction_leaf=0.0, n_estimators=100,\n",
              "                           n_iter_no_change=None, presort='deprecated',\n",
              "                           random_state=0, subsample=1.0, tol=0.0001,\n",
              "                           validation_fraction=0.1, verbose=0,\n",
              "                           warm_start=False)"
            ]
          },
          "metadata": {
            "tags": []
          },
          "execution_count": 139
        }
      ]
    },
    {
      "cell_type": "code",
      "metadata": {
        "id": "J0-9kExoUg3t"
      },
      "source": [
        "y_gboost_pred = clf_gboost.predict(X_test)"
      ],
      "execution_count": 141,
      "outputs": []
    },
    {
      "cell_type": "code",
      "metadata": {
        "colab": {
          "base_uri": "https://localhost:8080/"
        },
        "id": "jQUsH9K5Uust",
        "outputId": "5488c03d-eb00-441a-8af3-87ba56dfc858"
      },
      "source": [
        "clf_gboost_accuracy = accuracy_score(y_test, y_gboost_pred)\n",
        "clf_gboost_accuracy"
      ],
      "execution_count": 142,
      "outputs": [
        {
          "output_type": "execute_result",
          "data": {
            "text/plain": [
              "0.6703703703703704"
            ]
          },
          "metadata": {
            "tags": []
          },
          "execution_count": 142
        }
      ]
    },
    {
      "cell_type": "code",
      "metadata": {
        "colab": {
          "base_uri": "https://localhost:8080/",
          "height": 301
        },
        "id": "XpRNDFPRVqof",
        "outputId": "6f6122bb-061e-4014-e492-c66efafe7096"
      },
      "source": [
        "plot_confusion_matrix(clf_gboost,\n",
        "                      X_test,\n",
        "                      y_test,\n",
        "                      display_labels=['Kama','Rosa','Canadian'])"
      ],
      "execution_count": null,
      "outputs": [
        {
          "output_type": "execute_result",
          "data": {
            "text/plain": [
              "<sklearn.metrics._plot.confusion_matrix.ConfusionMatrixDisplay at 0x7f3f29fabbd0>"
            ]
          },
          "metadata": {
            "tags": []
          },
          "execution_count": 56
        },
        {
          "output_type": "display_data",
          "data": {
            "image/png": "[encoded data removed]",
            "text/plain": [
              "<Figure size 432x288 with 2 Axes>"
            ]
          },
          "metadata": {
            "tags": [],
            "needs_background": "light"
          }
        }
      ]
    },
    {
      "cell_type": "code",
      "metadata": {
        "id": "-Hyll0pWWKv1"
      },
      "source": [
        ""
      ],
      "execution_count": null,
      "outputs": []
    },
    {
      "cell_type": "markdown",
      "metadata": {
        "id": "VrttfgpJW-UG"
      },
      "source": [
        "###TUNING THE GRADIENT BOOST"
      ]
    },
    {
      "cell_type": "code",
      "metadata": {
        "id": "LOpcCR90Wo_a"
      },
      "source": [
        "clf_gboost_2 = GradientBoostingClassifier(random_state=0)"
      ],
      "execution_count": null,
      "outputs": []
    },
    {
      "cell_type": "code",
      "metadata": {
        "id": "Yc6r6u-oabkE"
      },
      "source": [
        "    n_estimators = [5, 10, 50, 150, 200]\n"
      ],
      "execution_count": null,
      "outputs": []
    },
    {
      "cell_type": "code",
      "metadata": {
        "id": "RXqRTtOVXcjr"
      },
      "source": [
        "para_gboost ={\n",
        "    \"n_estimators\":[5, 10, 50, 150, 200]\n",
        "}"
      ],
      "execution_count": null,
      "outputs": []
    },
    {
      "cell_type": "code",
      "metadata": {
        "id": "NbmaQyWUXk0o"
      },
      "source": [
        "grid_gboost = GridSearchCV(clf_gboost_2, param_grid=para_gboost, cv=10)"
      ],
      "execution_count": null,
      "outputs": []
    },
    {
      "cell_type": "code",
      "metadata": {
        "colab": {
          "base_uri": "https://localhost:8080/"
        },
        "id": "IUi7BqRrYM5s",
        "outputId": "1360252a-bc05-49cf-b59f-c7a040504df4"
      },
      "source": [
        "grid_gboost.fit(X_train, y_train)"
      ],
      "execution_count": null,
      "outputs": [
        {
          "output_type": "execute_result",
          "data": {
            "text/plain": [
              "GridSearchCV(cv=10, error_score=nan,\n",
              "             estimator=GradientBoostingClassifier(ccp_alpha=0.0,\n",
              "                                                  criterion='friedman_mse',\n",
              "                                                  init=None, learning_rate=0.1,\n",
              "                                                  loss='deviance', max_depth=3,\n",
              "                                                  max_features=None,\n",
              "                                                  max_leaf_nodes=None,\n",
              "                                                  min_impurity_decrease=0.0,\n",
              "                                                  min_impurity_split=None,\n",
              "                                                  min_samples_leaf=1,\n",
              "                                                  min_samples_split=2,\n",
              "                                                  min_weight_fraction_leaf=0.0,\n",
              "                                                  n_estimators=100,\n",
              "                                                  n_iter_no_change=None,\n",
              "                                                  presort='deprecated',\n",
              "                                                  random_state=0, subsample=1.0,\n",
              "                                                  tol=0.0001,\n",
              "                                                  validation_fraction=0.1,\n",
              "                                                  verbose=0, warm_start=False),\n",
              "             iid='deprecated', n_jobs=None,\n",
              "             param_grid={'n_estimators': [5, 10, 50, 150, 200]},\n",
              "             pre_dispatch='2*n_jobs', refit=True, return_train_score=False,\n",
              "             scoring=None, verbose=0)"
            ]
          },
          "metadata": {
            "tags": []
          },
          "execution_count": 61
        }
      ]
    },
    {
      "cell_type": "code",
      "metadata": {
        "colab": {
          "base_uri": "https://localhost:8080/"
        },
        "id": "EQ2OvBdmYpsz",
        "outputId": "b8313d39-4ac8-4fae-fb10-69776aeec86c"
      },
      "source": [
        "grid_gboost.cv_results_"
      ],
      "execution_count": null,
      "outputs": [
        {
          "output_type": "execute_result",
          "data": {
            "text/plain": [
              "{'mean_fit_time': array([0.01966937, 0.03364751, 0.15734262, 0.35317864, 0.42770109]),\n",
              " 'mean_score_time': array([0.00160997, 0.00181324, 0.00162592, 0.00192859, 0.00203278]),\n",
              " 'mean_test_score': array([0.91125   , 0.905     , 0.93083333, 0.93708333, 0.93708333]),\n",
              " 'param_n_estimators': masked_array(data=[5, 10, 50, 150, 200],\n",
              "              mask=[False, False, False, False, False],\n",
              "        fill_value='?',\n",
              "             dtype=object),\n",
              " 'params': [{'n_estimators': 5},\n",
              "  {'n_estimators': 10},\n",
              "  {'n_estimators': 50},\n",
              "  {'n_estimators': 150},\n",
              "  {'n_estimators': 200}],\n",
              " 'rank_test_score': array([4, 5, 3, 1, 1], dtype=int32),\n",
              " 'split0_test_score': array([0.875, 0.875, 0.875, 0.875, 0.875]),\n",
              " 'split1_test_score': array([0.9375, 0.9375, 1.    , 1.    , 1.    ]),\n",
              " 'split2_test_score': array([1.    , 0.9375, 0.9375, 1.    , 1.    ]),\n",
              " 'split3_test_score': array([0.875 , 0.875 , 0.9375, 0.9375, 0.9375]),\n",
              " 'split4_test_score': array([0.875, 0.875, 0.875, 0.875, 0.875]),\n",
              " 'split5_test_score': array([1., 1., 1., 1., 1.]),\n",
              " 'split6_test_score': array([0.8125, 0.8125, 0.8125, 0.8125, 0.8125]),\n",
              " 'split7_test_score': array([0.9375, 0.9375, 0.9375, 0.9375, 0.9375]),\n",
              " 'split8_test_score': array([0.86666667, 0.86666667, 1.        , 1.        , 1.        ]),\n",
              " 'split9_test_score': array([0.93333333, 0.93333333, 0.93333333, 0.93333333, 0.93333333]),\n",
              " 'std_fit_time': array([0.0042532 , 0.00319287, 0.00561832, 0.01186358, 0.01495731]),\n",
              " 'std_score_time': array([2.98381629e-04, 5.32717546e-04, 6.43383215e-05, 2.38427459e-04,\n",
              "        3.41292519e-04]),\n",
              " 'std_test_score': array([0.05770645, 0.05071708, 0.05893146, 0.0625125 , 0.0625125 ])}"
            ]
          },
          "metadata": {
            "tags": []
          },
          "execution_count": 62
        }
      ]
    },
    {
      "cell_type": "code",
      "metadata": {
        "colab": {
          "base_uri": "https://localhost:8080/"
        },
        "id": "VpBwyXFMZJFL",
        "outputId": "ab46473c-e856-4860-a2f5-c49cb9e126fa"
      },
      "source": [
        "mean_accuracy_gboost = grid_gboost.cv_results_['mean_test_score']\n",
        "mean_accuracy_gboost"
      ],
      "execution_count": null,
      "outputs": [
        {
          "output_type": "execute_result",
          "data": {
            "text/plain": [
              "array([0.91125   , 0.905     , 0.93083333, 0.93708333, 0.93708333])"
            ]
          },
          "metadata": {
            "tags": []
          },
          "execution_count": 63
        }
      ]
    },
    {
      "cell_type": "code",
      "metadata": {
        "colab": {
          "base_uri": "https://localhost:8080/"
        },
        "id": "tGLfESHcHxM5",
        "outputId": "423a020f-0ef0-4c2c-ea66-952b0cf9bfc0"
      },
      "source": [
        "grid_gboost.best_params_"
      ],
      "execution_count": null,
      "outputs": [
        {
          "output_type": "execute_result",
          "data": {
            "text/plain": [
              "{'n_estimators': 150}"
            ]
          },
          "metadata": {
            "tags": []
          },
          "execution_count": 111
        }
      ]
    },
    {
      "cell_type": "code",
      "metadata": {
        "colab": {
          "base_uri": "https://localhost:8080/",
          "height": 295
        },
        "id": "Y2LeYCNkZwlp",
        "outputId": "326bc87d-54c4-45e2-f685-f8c5f46449e6"
      },
      "source": [
        "fig, axis = plt.subplots()\n",
        "axis.set_xlabel(\"N Estimators\")\n",
        "axis.set_ylabel(\"Mean Accuracy\")\n",
        "axis.set_title(\"N Estimators vs Mean Accuracy\")\n",
        "axis.plot(n_estimators, mean_accuracy_gboost, marker ='o' , label=\"train\",drawstyle =\"steps-post\")\n",
        "plt.grid()"
      ],
      "execution_count": null,
      "outputs": [
        {
          "output_type": "display_data",
          "data": {
            "image/png": "[encoded data removed]",
            "text/plain": [
              "<Figure size 432x288 with 1 Axes>"
            ]
          },
          "metadata": {
            "tags": [],
            "needs_background": "light"
          }
        }
      ]
    },
    {
      "cell_type": "code",
      "metadata": {
        "id": "uk1hiVlCJUyE"
      },
      "source": [
        "clf_gboost_3 = GradientBoostingClassifier(random_state=0, n_estimators=150)"
      ],
      "execution_count": null,
      "outputs": []
    },
    {
      "cell_type": "code",
      "metadata": {
        "colab": {
          "base_uri": "https://localhost:8080/"
        },
        "id": "ywK0VZY_JZR5",
        "outputId": "8108e685-8c0c-4f84-a6c8-660fc2af1bf5"
      },
      "source": [
        "clf_gboost_3.fit(X_train, y_train)"
      ],
      "execution_count": null,
      "outputs": [
        {
          "output_type": "execute_result",
          "data": {
            "text/plain": [
              "GradientBoostingClassifier(ccp_alpha=0.0, criterion='friedman_mse', init=None,\n",
              "                           learning_rate=0.1, loss='deviance', max_depth=3,\n",
              "                           max_features=None, max_leaf_nodes=None,\n",
              "                           min_impurity_decrease=0.0, min_impurity_split=None,\n",
              "                           min_samples_leaf=1, min_samples_split=2,\n",
              "                           min_weight_fraction_leaf=0.0, n_estimators=150,\n",
              "                           n_iter_no_change=None, presort='deprecated',\n",
              "                           random_state=0, subsample=1.0, tol=0.0001,\n",
              "                           validation_fraction=0.1, verbose=0,\n",
              "                           warm_start=False)"
            ]
          },
          "metadata": {
            "tags": []
          },
          "execution_count": 119
        }
      ]
    },
    {
      "cell_type": "code",
      "metadata": {
        "id": "71Te6NC2JmrR"
      },
      "source": [
        "clf_gboost_prediction = clf_gboost_3.predict(X_test)"
      ],
      "execution_count": null,
      "outputs": []
    },
    {
      "cell_type": "code",
      "metadata": {
        "colab": {
          "base_uri": "https://localhost:8080/"
        },
        "id": "FeQbgeAzJ0mP",
        "outputId": "32a0e5c2-8ac0-4579-ca78-980daa459ae1"
      },
      "source": [
        "clf_gboost_accuracy_1 = accuracy_score(y_test, clf_gboost_prediction)\n",
        "clf_gboost_accuracy_1"
      ],
      "execution_count": null,
      "outputs": [
        {
          "output_type": "execute_result",
          "data": {
            "text/plain": [
              "0.975"
            ]
          },
          "metadata": {
            "tags": []
          },
          "execution_count": 121
        }
      ]
    },
    {
      "cell_type": "code",
      "metadata": {
        "colab": {
          "base_uri": "https://localhost:8080/",
          "height": 301
        },
        "id": "YfAvrrEbKFJi",
        "outputId": "4af0a338-661d-4ebc-de20-2aff06c93e84"
      },
      "source": [
        "plot_confusion_matrix(clf_gboost_3,\n",
        "                      X_test,\n",
        "                      y_test,\n",
        "                      display_labels=['Kama','Rosa','Canadian'])"
      ],
      "execution_count": null,
      "outputs": [
        {
          "output_type": "execute_result",
          "data": {
            "text/plain": [
              "<sklearn.metrics._plot.confusion_matrix.ConfusionMatrixDisplay at 0x7f3f29cb0d10>"
            ]
          },
          "metadata": {
            "tags": []
          },
          "execution_count": 122
        },
        {
          "output_type": "display_data",
          "data": {
            "image/png": "[encoded data removed]",
            "text/plain": [
              "<Figure size 432x288 with 2 Axes>"
            ]
          },
          "metadata": {
            "tags": [],
            "needs_background": "light"
          }
        }
      ]
    },
    {
      "cell_type": "markdown",
      "metadata": {
        "id": "ZcAdM1quQKvu"
      },
      "source": [
        "#NAIVE BAYES CLASSIFIER "
      ]
    },
    {
      "cell_type": "code",
      "metadata": {
        "id": "wtnBZo8EUvP6"
      },
      "source": [
        "from sklearn.naive_bayes import GaussianNB"
      ],
      "execution_count": null,
      "outputs": []
    },
    {
      "cell_type": "code",
      "metadata": {
        "colab": {
          "base_uri": "https://localhost:8080/"
        },
        "id": "peTmbaC3Viub",
        "outputId": "96f4d0fc-f650-4bd7-c763-6753ccf4bd64"
      },
      "source": [
        "naive_clf = GaussianNB()\n",
        "naive_clf.fit(X_train, y_train)"
      ],
      "execution_count": null,
      "outputs": [
        {
          "output_type": "execute_result",
          "data": {
            "text/plain": [
              "GaussianNB(priors=None, var_smoothing=1e-09)"
            ]
          },
          "metadata": {
            "tags": []
          },
          "execution_count": 66
        }
      ]
    },
    {
      "cell_type": "code",
      "metadata": {
        "colab": {
          "base_uri": "https://localhost:8080/",
          "height": 297
        },
        "id": "rUKPoUxqWrvl",
        "outputId": "46f4b886-ef8c-406c-c1dd-369a1d492185"
      },
      "source": [
        "plot_confusion_matrix(naive_clf,\n",
        "                      X_test,\n",
        "                      y_test,\n",
        "                      display_labels=['Kama','Rosa','Canadian'])"
      ],
      "execution_count": null,
      "outputs": [
        {
          "output_type": "execute_result",
          "data": {
            "text/plain": [
              "<sklearn.metrics._plot.confusion_matrix.ConfusionMatrixDisplay at 0x7f3f29e96d90>"
            ]
          },
          "metadata": {
            "tags": []
          },
          "execution_count": 68
        },
        {
          "output_type": "display_data",
          "data": {
            "image/png": "[encoded data removed]",
            "text/plain": [
              "<Figure size 432x288 with 2 Axes>"
            ]
          },
          "metadata": {
            "tags": [],
            "needs_background": "light"
          }
        }
      ]
    },
    {
      "cell_type": "code",
      "metadata": {
        "id": "qy9mq5rvW6jA"
      },
      "source": [
        "y_naive_predicted = naive_clf. predict(X_test)"
      ],
      "execution_count": null,
      "outputs": []
    },
    {
      "cell_type": "code",
      "metadata": {
        "colab": {
          "base_uri": "https://localhost:8080/"
        },
        "id": "RZCp5SdfXHqq",
        "outputId": "b480f27f-9323-413e-e17b-90e436b73c32"
      },
      "source": [
        "naiveB_accuracy = accuracy_score(y_test, y_naive_predicted)\n",
        "naiveB_accuracy"
      ],
      "execution_count": null,
      "outputs": [
        {
          "output_type": "execute_result",
          "data": {
            "text/plain": [
              "0.9"
            ]
          },
          "metadata": {
            "tags": []
          },
          "execution_count": 70
        }
      ]
    },
    {
      "cell_type": "markdown",
      "metadata": {
        "id": "_m6x6KaZkKqB"
      },
      "source": [
        "###TUNING GAUSSIANNB HYPERPARAMETERS"
      ]
    },
    {
      "cell_type": "code",
      "metadata": {
        "id": "HNRy7hZUkQ4Z"
      },
      "source": [
        "naive_clf_2 = GaussianNB()\n"
      ],
      "execution_count": null,
      "outputs": []
    },
    {
      "cell_type": "code",
      "metadata": {
        "id": "DKO3VkHs--GL"
      },
      "source": [
        " var_smoothing = [1e-10, 1e-9, 1e-5, 1e-3, 1e-1]"
      ],
      "execution_count": null,
      "outputs": []
    },
    {
      "cell_type": "code",
      "metadata": {
        "id": "OjDd-jlKlg5O"
      },
      "source": [
        "param_gb = {\n",
        "    \"var_smoothing\": [1e-10, 1e-9, 1e-5, 1e-3, 1e-1]\n",
        "    }"
      ],
      "execution_count": null,
      "outputs": []
    },
    {
      "cell_type": "code",
      "metadata": {
        "id": "kDGoxfldl5gR"
      },
      "source": [
        "grid_naive_clf = GridSearchCV(naive_clf_2 , param_grid=  param_gb , cv =10)"
      ],
      "execution_count": null,
      "outputs": []
    },
    {
      "cell_type": "code",
      "metadata": {
        "colab": {
          "base_uri": "https://localhost:8080/"
        },
        "id": "KdujhMJysq-e",
        "outputId": "71574f7d-52c7-4e9b-d0d3-2f8b3b5c2616"
      },
      "source": [
        "grid_naive_clf.fit(X_train, y_train)"
      ],
      "execution_count": null,
      "outputs": [
        {
          "output_type": "execute_result",
          "data": {
            "text/plain": [
              "GridSearchCV(cv=10, error_score=nan,\n",
              "             estimator=GaussianNB(priors=None, var_smoothing=1e-09),\n",
              "             iid='deprecated', n_jobs=None,\n",
              "             param_grid={'var_smoothing': [1e-10, 1e-09, 1e-05, 0.001, 0.1]},\n",
              "             pre_dispatch='2*n_jobs', refit=True, return_train_score=False,\n",
              "             scoring=None, verbose=0)"
            ]
          },
          "metadata": {
            "tags": []
          },
          "execution_count": 74
        }
      ]
    },
    {
      "cell_type": "code",
      "metadata": {
        "colab": {
          "base_uri": "https://localhost:8080/"
        },
        "id": "jN5IeH5HtBB9",
        "outputId": "6dda3375-17ef-4ae5-d7f7-242418a544c3"
      },
      "source": [
        "grid_naive_clf.best_params_"
      ],
      "execution_count": null,
      "outputs": [
        {
          "output_type": "execute_result",
          "data": {
            "text/plain": [
              "{'var_smoothing': 0.001}"
            ]
          },
          "metadata": {
            "tags": []
          },
          "execution_count": 75
        }
      ]
    },
    {
      "cell_type": "code",
      "metadata": {
        "colab": {
          "base_uri": "https://localhost:8080/"
        },
        "id": "QV1zvFwJtOvJ",
        "outputId": "50509802-1699-4fce-d0f2-7b1672e7d02a"
      },
      "source": [
        "grid_naive_clf.cv_results_"
      ],
      "execution_count": null,
      "outputs": [
        {
          "output_type": "execute_result",
          "data": {
            "text/plain": [
              "{'mean_fit_time': array([0.00201604, 0.00162446, 0.00163085, 0.00185282, 0.0017354 ]),\n",
              " 'mean_score_time': array([0.00115094, 0.00096798, 0.00101993, 0.00116546, 0.00099587]),\n",
              " 'mean_test_score': array([0.905     , 0.905     , 0.905     , 0.9175    , 0.89833333]),\n",
              " 'param_var_smoothing': masked_array(data=[1e-10, 1e-09, 1e-05, 0.001, 0.1],\n",
              "              mask=[False, False, False, False, False],\n",
              "        fill_value='?',\n",
              "             dtype=object),\n",
              " 'params': [{'var_smoothing': 1e-10},\n",
              "  {'var_smoothing': 1e-09},\n",
              "  {'var_smoothing': 1e-05},\n",
              "  {'var_smoothing': 0.001},\n",
              "  {'var_smoothing': 0.1}],\n",
              " 'rank_test_score': array([2, 2, 2, 1, 5], dtype=int32),\n",
              " 'split0_test_score': array([0.875, 0.875, 0.875, 0.875, 0.875]),\n",
              " 'split1_test_score': array([0.875 , 0.875 , 0.875 , 0.9375, 0.875 ]),\n",
              " 'split2_test_score': array([0.9375, 0.9375, 0.9375, 1.    , 1.    ]),\n",
              " 'split3_test_score': array([1.    , 1.    , 1.    , 1.    , 0.9375]),\n",
              " 'split4_test_score': array([0.875 , 0.875 , 0.875 , 0.9375, 0.9375]),\n",
              " 'split5_test_score': array([1.    , 1.    , 1.    , 1.    , 0.9375]),\n",
              " 'split6_test_score': array([0.8125, 0.8125, 0.8125, 0.75  , 0.8125]),\n",
              " 'split7_test_score': array([0.875, 0.875, 0.875, 0.875, 0.875]),\n",
              " 'split8_test_score': array([0.93333333, 0.93333333, 0.93333333, 0.93333333, 0.93333333]),\n",
              " 'split9_test_score': array([0.86666667, 0.86666667, 0.86666667, 0.86666667, 0.8       ]),\n",
              " 'std_fit_time': array([7.64507838e-04, 9.41944857e-05, 9.31946509e-05, 3.94226963e-04,\n",
              "        2.31170949e-04]),\n",
              " 'std_score_time': array([5.14814508e-04, 9.01396926e-05, 1.62070751e-04, 3.45483018e-04,\n",
              "        7.81518501e-05]),\n",
              " 'std_test_score': array([0.05790917, 0.05790917, 0.05790917, 0.07464732, 0.05901977])}"
            ]
          },
          "metadata": {
            "tags": []
          },
          "execution_count": 82
        }
      ]
    },
    {
      "cell_type": "code",
      "metadata": {
        "id": "dhQM3xIj-l0Q",
        "colab": {
          "base_uri": "https://localhost:8080/"
        },
        "outputId": "175380a1-5b69-4947-bba5-bf20f1e4f6c4"
      },
      "source": [
        "mean_accuracy_naivebayes = grid_naive_clf.cv_results_['mean_test_score']\n",
        "mean_accuracy_naivebayes"
      ],
      "execution_count": null,
      "outputs": [
        {
          "output_type": "execute_result",
          "data": {
            "text/plain": [
              "array([0.905     , 0.905     , 0.905     , 0.9175    , 0.89833333])"
            ]
          },
          "metadata": {
            "tags": []
          },
          "execution_count": 86
        }
      ]
    },
    {
      "cell_type": "code",
      "metadata": {
        "id": "wyllJwt2-TYs",
        "colab": {
          "base_uri": "https://localhost:8080/",
          "height": 295
        },
        "outputId": "4b372263-57c4-43e5-e581-719abff3be86"
      },
      "source": [
        "fig, axis = plt.subplots()\n",
        "axis.set_xlabel(\"Var Smoothing\")\n",
        "axis.set_ylabel(\"Mean Accuracy\")\n",
        "axis.set_title(\"Var smoothing vs Mean Accuracy\")\n",
        "axis.plot(var_smoothing, mean_accuracy_naivebayes, marker ='o' , label=\"train\",drawstyle =\"steps-post\")\n",
        "plt.grid()"
      ],
      "execution_count": null,
      "outputs": [
        {
          "output_type": "display_data",
          "data": {
            "image/png": "[encoded data removed]",
            "text/plain": [
              "<Figure size 432x288 with 1 Axes>"
            ]
          },
          "metadata": {
            "tags": [],
            "needs_background": "light"
          }
        }
      ]
    },
    {
      "cell_type": "code",
      "metadata": {
        "id": "b2TY2PNb5Ys2"
      },
      "source": [
        "naive_clf_3 = GaussianNB(var_smoothing= 1e-3)\n"
      ],
      "execution_count": null,
      "outputs": []
    },
    {
      "cell_type": "code",
      "metadata": {
        "id": "sfcV-8fZ-Arv",
        "colab": {
          "base_uri": "https://localhost:8080/"
        },
        "outputId": "e208deeb-a91a-484d-d3d3-bb52b60f92dd"
      },
      "source": [
        "naive_clf_3.fit(X_train, y_train)"
      ],
      "execution_count": null,
      "outputs": [
        {
          "output_type": "execute_result",
          "data": {
            "text/plain": [
              "GaussianNB(priors=None, var_smoothing=0.001)"
            ]
          },
          "metadata": {
            "tags": []
          },
          "execution_count": 90
        }
      ]
    },
    {
      "cell_type": "code",
      "metadata": {
        "id": "WI9KhuJS60QC"
      },
      "source": [
        "y_naive3_predicted = naive_clf_3.predict(X_test)"
      ],
      "execution_count": null,
      "outputs": []
    },
    {
      "cell_type": "code",
      "metadata": {
        "colab": {
          "base_uri": "https://localhost:8080/"
        },
        "id": "XOnZnDGY_42f",
        "outputId": "5ff621a0-a9a8-44cb-cd6d-28af751440ed"
      },
      "source": [
        "naiveB_3_accuracy = accuracy_score(y_test, y_naive3_predicted)\n",
        "naiveB_3_accuracy"
      ],
      "execution_count": null,
      "outputs": [
        {
          "output_type": "execute_result",
          "data": {
            "text/plain": [
              "0.925"
            ]
          },
          "metadata": {
            "tags": []
          },
          "execution_count": 92
        }
      ]
    },
    {
      "cell_type": "code",
      "metadata": {
        "colab": {
          "base_uri": "https://localhost:8080/",
          "height": 296
        },
        "id": "uLtee8idAphH",
        "outputId": "e65131fb-0525-44f1-aae3-8a161322ba0a"
      },
      "source": [
        "plot_confusion_matrix(naive_clf_3,\n",
        "                      X_test,\n",
        "                      y_test,\n",
        "                      display_labels=['Kama','Rosa','Canadian'])"
      ],
      "execution_count": null,
      "outputs": [
        {
          "output_type": "execute_result",
          "data": {
            "text/plain": [
              "<sklearn.metrics._plot.confusion_matrix.ConfusionMatrixDisplay at 0x7f3f21b010d0>"
            ]
          },
          "metadata": {
            "tags": []
          },
          "execution_count": 93
        },
        {
          "output_type": "display_data",
          "data": {
            "image/png": "[encoded data removed]",
            "text/plain": [
              "<Figure size 432x288 with 2 Axes>"
            ]
          },
          "metadata": {
            "tags": [],
            "needs_background": "light"
          }
        }
      ]
    },
    {
      "cell_type": "markdown",
      "metadata": {
        "id": "mRZLlXafeTiC"
      },
      "source": [
        "#NORMALIZATION "
      ]
    },
    {
      "cell_type": "markdown",
      "metadata": {
        "id": "vL7TARdIehN2"
      },
      "source": [
        "###Using standard scaler "
      ]
    },
    {
      "cell_type": "code",
      "metadata": {
        "id": "AtDKfePmeXeT",
        "colab": {
          "base_uri": "https://localhost:8080/"
        },
        "outputId": "93a039a4-bc82-41d8-cacb-f3d773e596ee"
      },
      "source": [
        "from sklearn.preprocessing import StandardScaler\n",
        "scaler = StandardScaler()\n",
        "X_std = scaler.fit_transform(X)\n",
        "X_std\n",
        "\n"
      ],
      "execution_count": null,
      "outputs": [
        {
          "output_type": "execute_result",
          "data": {
            "text/plain": [
              "array([[-0.0126787 , -0.01877083,  0.41922706, ...,  0.17896048,\n",
              "        -1.8353368 , -0.94549609],\n",
              "       [-0.21474217, -0.38509103,  1.52681347, ...,  0.1895339 ,\n",
              "        -0.6874603 , -1.21148031],\n",
              "       [-0.36885838, -0.49956609,  1.08655946, ...,  0.30055481,\n",
              "        -0.98791578, -1.25208859],\n",
              "       ...,\n",
              "       [-0.58804588, -0.71325287,  0.75289326, ..., -0.08801838,\n",
              "         3.02086025, -0.74245469],\n",
              "       [-1.05381932, -1.05667806, -0.92470625, ..., -1.13478697,\n",
              "        -0.07357512, -0.76681966],\n",
              "       [-0.8962783 , -0.95746634, -0.16932305, ..., -0.77000398,\n",
              "         1.31876289, -0.7282418 ]])"
            ]
          },
          "metadata": {
            "tags": []
          },
          "execution_count": 95
        }
      ]
    },
    {
      "cell_type": "code",
      "metadata": {
        "id": "HvbaTbwbp-cC"
      },
      "source": [
        "from sklearn.model_selection import train_test_split, cross_val_score\n",
        "\n",
        "X_Norm_train, X_Norm_test, y_Norm_train, y_Norm_test = train_test_split(X_std, y, \n",
        "                                                    test_size = 0.2,\n",
        "                                                    random_state = 0)"
      ],
      "execution_count": null,
      "outputs": []
    },
    {
      "cell_type": "markdown",
      "metadata": {
        "id": "G48GKAzsqtDy"
      },
      "source": [
        "###Use Decision Tree with Normalized Data"
      ]
    },
    {
      "cell_type": "code",
      "metadata": {
        "id": "Q5MxpxmmqlTF"
      },
      "source": [
        "Norm_dt_2 = DecisionTreeClassifier(random_state=0, max_depth=10)\n",
        "Norm_dt_2 = Norm_dt_2.fit(X_Norm_train, y_Norm_train)"
      ],
      "execution_count": null,
      "outputs": []
    },
    {
      "cell_type": "code",
      "metadata": {
        "id": "h5s9ObaEvQnM"
      },
      "source": [
        "Norm_dt_predicted = Norm_dt_2. predict(X_Norm_test)"
      ],
      "execution_count": null,
      "outputs": []
    },
    {
      "cell_type": "code",
      "metadata": {
        "id": "qgjYftL8vi25",
        "colab": {
          "base_uri": "https://localhost:8080/"
        },
        "outputId": "ed53038d-c6b6-49a0-d687-7e0db14a3d6c"
      },
      "source": [
        "Norm_dt_accuracy = accuracy_score(y_Norm_test, Norm_dt_predicted)\n",
        "Norm_dt_accuracy"
      ],
      "execution_count": null,
      "outputs": [
        {
          "output_type": "execute_result",
          "data": {
            "text/plain": [
              "0.9"
            ]
          },
          "metadata": {
            "tags": []
          },
          "execution_count": 100
        }
      ]
    },
    {
      "cell_type": "markdown",
      "metadata": {
        "id": "Qd5raeujwWid"
      },
      "source": [
        "###Use Random Forest with Normalized Data"
      ]
    },
    {
      "cell_type": "code",
      "metadata": {
        "id": "o7bDdcoBwQO-"
      },
      "source": [
        "Norm_rft_2 =  RandomForestClassifier(max_depth=5, n_estimators=10)"
      ],
      "execution_count": null,
      "outputs": []
    },
    {
      "cell_type": "code",
      "metadata": {
        "id": "21yf0syvw_cH",
        "colab": {
          "base_uri": "https://localhost:8080/"
        },
        "outputId": "1dcd263d-007f-48c8-f42e-1a3adfb44a45"
      },
      "source": [
        "Norm_rft_2.fit(X_Norm_train, y_Norm_train)"
      ],
      "execution_count": null,
      "outputs": [
        {
          "output_type": "execute_result",
          "data": {
            "text/plain": [
              "RandomForestClassifier(bootstrap=True, ccp_alpha=0.0, class_weight=None,\n",
              "                       criterion='gini', max_depth=5, max_features='auto',\n",
              "                       max_leaf_nodes=None, max_samples=None,\n",
              "                       min_impurity_decrease=0.0, min_impurity_split=None,\n",
              "                       min_samples_leaf=1, min_samples_split=2,\n",
              "                       min_weight_fraction_leaf=0.0, n_estimators=10,\n",
              "                       n_jobs=None, oob_score=False, random_state=None,\n",
              "                       verbose=0, warm_start=False)"
            ]
          },
          "metadata": {
            "tags": []
          },
          "execution_count": 108
        }
      ]
    },
    {
      "cell_type": "code",
      "metadata": {
        "id": "NJjZmYAJzq-m"
      },
      "source": [
        "Norm_rft_predicted = Norm_rft_2. predict(X_Norm_test)"
      ],
      "execution_count": null,
      "outputs": []
    },
    {
      "cell_type": "code",
      "metadata": {
        "colab": {
          "base_uri": "https://localhost:8080/"
        },
        "id": "EAg4laaPHPae",
        "outputId": "9878c65a-31c1-49a9-c914-79153c85e440"
      },
      "source": [
        "Norm_rft_accuracy = accuracy_score(y_Norm_test, Norm_rft_predicted)\n",
        "Norm_rft_accuracy"
      ],
      "execution_count": null,
      "outputs": [
        {
          "output_type": "execute_result",
          "data": {
            "text/plain": [
              "0.9"
            ]
          },
          "metadata": {
            "tags": []
          },
          "execution_count": 110
        }
      ]
    },
    {
      "cell_type": "markdown",
      "metadata": {
        "id": "a6Gp6w8-GhFg"
      },
      "source": [
        "###Use Gradient Boosting with Normalized Data"
      ]
    },
    {
      "cell_type": "code",
      "metadata": {
        "id": "fOGT3SPJGp35"
      },
      "source": [
        "Norm_gradient_2 =  GradientBoostingClassifier(n_estimators=150)"
      ],
      "execution_count": null,
      "outputs": []
    },
    {
      "cell_type": "code",
      "metadata": {
        "colab": {
          "base_uri": "https://localhost:8080/"
        },
        "id": "pnqkhtwSGriw",
        "outputId": "bd720dd0-3386-4ecd-fcca-aee1325add53"
      },
      "source": [
        "Norm_gradient_2.fit(X_Norm_train, y_Norm_train)"
      ],
      "execution_count": null,
      "outputs": [
        {
          "output_type": "execute_result",
          "data": {
            "text/plain": [
              "GradientBoostingClassifier(ccp_alpha=0.0, criterion='friedman_mse', init=None,\n",
              "                           learning_rate=0.1, loss='deviance', max_depth=3,\n",
              "                           max_features=None, max_leaf_nodes=None,\n",
              "                           min_impurity_decrease=0.0, min_impurity_split=None,\n",
              "                           min_samples_leaf=1, min_samples_split=2,\n",
              "                           min_weight_fraction_leaf=0.0, n_estimators=150,\n",
              "                           n_iter_no_change=None, presort='deprecated',\n",
              "                           random_state=None, subsample=1.0, tol=0.0001,\n",
              "                           validation_fraction=0.1, verbose=0,\n",
              "                           warm_start=False)"
            ]
          },
          "metadata": {
            "tags": []
          },
          "execution_count": 113
        }
      ]
    },
    {
      "cell_type": "code",
      "metadata": {
        "id": "ZVhFCXTNGsUJ"
      },
      "source": [
        "Norm_gradient_predicted =  Norm_gradient_2.predict(X_Norm_test)"
      ],
      "execution_count": null,
      "outputs": []
    },
    {
      "cell_type": "code",
      "metadata": {
        "colab": {
          "base_uri": "https://localhost:8080/"
        },
        "id": "SpJtOCMpISHA",
        "outputId": "f41f6bf2-c112-4b7a-e4a7-9ee43820b252"
      },
      "source": [
        "Norm_gradient_accuracy = accuracy_score(y_Norm_test, Norm_gradient_predicted)\n",
        "Norm_gradient_accuracy"
      ],
      "execution_count": null,
      "outputs": [
        {
          "output_type": "execute_result",
          "data": {
            "text/plain": [
              "0.975"
            ]
          },
          "metadata": {
            "tags": []
          },
          "execution_count": 117
        }
      ]
    }
  ]
}